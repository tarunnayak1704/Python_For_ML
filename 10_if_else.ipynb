{
 "cells": [
  {
   "cell_type": "code",
   "execution_count": 1,
   "id": "fe70df78",
   "metadata": {},
   "outputs": [
    {
     "name": "stdout",
     "output_type": "stream",
     "text": [
      "Welcome!\n"
     ]
    }
   ],
   "source": [
    "# login program and indentation\n",
    "# email -> tarunn100@gmail.com\n",
    "# password -> 1234\n",
    "\n",
    "email = input('enter email: ')\n",
    "password = input('enter password: ')\n",
    "\n",
    "if email == 'tarunn100@gmail.com' and password == '1234':\n",
    "  print('Welcome!')\n",
    "elif email == 'tarunn100@gmail.com' and password != '1234':\n",
    "  # tell the user\n",
    "  print('Incorrect password.')\n",
    "  password = input('Enter password again.')\n",
    "  if password == '1234':\n",
    "    print('Welcome!')\n",
    "  else:\n",
    "    print('Incorrect password.')\n",
    "else:\n",
    "  print('Username or password incorrect.')"
   ]
  },
  {
   "cell_type": "code",
   "execution_count": 4,
   "id": "571f6de5",
   "metadata": {},
   "outputs": [
    {
     "name": "stdout",
     "output_type": "stream",
     "text": [
      "Minimum is c which is equal to 1\n"
     ]
    }
   ],
   "source": [
    "# min of three numbers\n",
    "a = int(input('first num'))\n",
    "b = int(input('second num'))\n",
    "c = int(input('third num'))\n",
    "\n",
    "if a<b and a<c:\n",
    "  print('Minimum is a which is equal to',a)\n",
    "elif b<c:\n",
    "  print('Minimum is b which is equal to',b)\n",
    "else:\n",
    "  print('Minimum is c which is equal to',c)"
   ]
  },
  {
   "cell_type": "code",
   "execution_count": null,
   "id": "9ba24bf7",
   "metadata": {},
   "outputs": [],
   "source": []
  }
 ],
 "metadata": {
  "kernelspec": {
   "display_name": "base",
   "language": "python",
   "name": "python3"
  },
  "language_info": {
   "codemirror_mode": {
    "name": "ipython",
    "version": 3
   },
   "file_extension": ".py",
   "mimetype": "text/x-python",
   "name": "python",
   "nbconvert_exporter": "python",
   "pygments_lexer": "ipython3",
   "version": "3.12.7"
  }
 },
 "nbformat": 4,
 "nbformat_minor": 5
}
