{
 "cells": [
  {
   "cell_type": "markdown",
   "id": "b12007a3",
   "metadata": {},
   "source": [
    "### while loop"
   ]
  },
  {
   "cell_type": "code",
   "execution_count": 1,
   "id": "c7a8fe3c",
   "metadata": {},
   "outputs": [
    {
     "name": "stdout",
     "output_type": "stream",
     "text": [
      "7 * 1 = 7\n",
      "7 * 2 = 14\n",
      "7 * 3 = 21\n",
      "7 * 4 = 28\n",
      "7 * 5 = 35\n",
      "7 * 6 = 42\n",
      "7 * 7 = 49\n",
      "7 * 8 = 56\n",
      "7 * 9 = 63\n",
      "7 * 10 = 70\n"
     ]
    }
   ],
   "source": [
    "n = int(input('Enter a number:'))\n",
    "\n",
    "i = 1\n",
    "\n",
    "while i<11:\n",
    "    print(n,'*', i, '=', n*i)\n",
    "    i += 1"
   ]
  },
  {
   "cell_type": "code",
   "execution_count": 2,
   "id": "e3051eb8",
   "metadata": {},
   "outputs": [
    {
     "name": "stdout",
     "output_type": "stream",
     "text": [
      "1\n",
      "2\n",
      "3\n",
      "4\n",
      "5\n",
      "6\n",
      "Limit crossed\n"
     ]
    }
   ],
   "source": [
    "# while loop with else\n",
    "x = 1\n",
    "\n",
    "while x<7:\n",
    "    print(x)\n",
    "    x += 1\n",
    "else:\n",
    "    print('Limit crossed')"
   ]
  },
  {
   "cell_type": "code",
   "execution_count": 4,
   "id": "fd4e7d8b",
   "metadata": {},
   "outputs": [
    {
     "name": "stdout",
     "output_type": "stream",
     "text": [
      "Guess lower\n",
      "Guess higher\n",
      "Guess higher\n",
      "Guess higher\n",
      "Guess higher\n",
      "Guess lower\n",
      "Correct Guess\n",
      "Special Number is 46 , Attempts 7\n"
     ]
    }
   ],
   "source": [
    "# Guessing a number game\n",
    "import random\n",
    "special_number = random.randint(1,100)\n",
    "\n",
    "guess = int(input('Guess a number:'))\n",
    "count = 1\n",
    "\n",
    "while guess != special_number:\n",
    "    if guess > special_number:\n",
    "        print('Guess lower')\n",
    "    else:\n",
    "        print('Guess higher')\n",
    "\n",
    "    guess = int(input('Guess a number:'))\n",
    "    count += 1\n",
    "else:\n",
    "    print('Correct Guess')\n",
    "    print('Special Number is', special_number, ', Attempts', count)"
   ]
  },
  {
   "cell_type": "markdown",
   "id": "2449699b",
   "metadata": {},
   "source": [
    "### for loops"
   ]
  },
  {
   "cell_type": "code",
   "execution_count": 6,
   "id": "a50c5ca6",
   "metadata": {},
   "outputs": [
    {
     "name": "stdout",
     "output_type": "stream",
     "text": [
      "1\n",
      "2\n",
      "3\n",
      "4\n",
      "5\n",
      "6\n",
      "7\n",
      "8\n",
      "9\n",
      "10\n"
     ]
    }
   ],
   "source": [
    "for i in range(1,11):\n",
    "    print(i)"
   ]
  },
  {
   "cell_type": "code",
   "execution_count": 7,
   "id": "e4a4afa5",
   "metadata": {},
   "outputs": [
    {
     "name": "stdout",
     "output_type": "stream",
     "text": [
      "1\n",
      "3\n",
      "5\n",
      "7\n",
      "9\n"
     ]
    }
   ],
   "source": [
    "for i in range(1,11,2):\n",
    "    print(i)"
   ]
  },
  {
   "cell_type": "code",
   "execution_count": 8,
   "id": "1fc27c64",
   "metadata": {},
   "outputs": [
    {
     "name": "stdout",
     "output_type": "stream",
     "text": [
      "10\n",
      "9\n",
      "8\n",
      "7\n",
      "6\n",
      "5\n",
      "4\n",
      "3\n",
      "2\n",
      "1\n"
     ]
    }
   ],
   "source": [
    "for i in range(10,0,-1):\n",
    "    print(i)"
   ]
  },
  {
   "cell_type": "code",
   "execution_count": 9,
   "id": "ea8c003b",
   "metadata": {},
   "outputs": [
    {
     "name": "stdout",
     "output_type": "stream",
     "text": [
      "T\n",
      "a\n",
      "r\n",
      "u\n",
      "n\n"
     ]
    }
   ],
   "source": [
    "for i in 'Tarun':\n",
    "    print(i)"
   ]
  },
  {
   "cell_type": "code",
   "execution_count": 5,
   "id": "739552c7",
   "metadata": {},
   "outputs": [
    {
     "name": "stdout",
     "output_type": "stream",
     "text": [
      "1\n",
      "2\n",
      "3\n"
     ]
    }
   ],
   "source": [
    "for i in {1,2,3}:\n",
    "    print(i)"
   ]
  },
  {
   "cell_type": "code",
   "execution_count": null,
   "id": "e5f2e355",
   "metadata": {},
   "outputs": [
    {
     "name": "stdout",
     "output_type": "stream",
     "text": [
      "2.7182818284590455\n"
     ]
    }
   ],
   "source": [
    "# sequence sum\n",
    "# 1/1! + 2/2! + 3/3! + ...\n",
    "# the sum approximates to Euler Number ≈ 2.718 for large n\n",
    "\n",
    "n = int(input('enter n'))\n",
    "sum = 0\n",
    "fact = 1\n",
    "\n",
    "for i in range(1, n+1):\n",
    "    fact *= i\n",
    "    sum += i/fact\n",
    "\n",
    "print(sum)"
   ]
  },
  {
   "cell_type": "code",
   "execution_count": 17,
   "id": "196533b4",
   "metadata": {},
   "outputs": [
    {
     "name": "stdout",
     "output_type": "stream",
     "text": [
      "1 1\n",
      "1 2\n",
      "1 3\n",
      "2 1\n",
      "2 2\n",
      "2 3\n",
      "3 1\n",
      "3 2\n",
      "3 3\n"
     ]
    }
   ],
   "source": [
    "# nested loops\n",
    "\n",
    "for i in range(1,4):\n",
    "    for j in range(1,4):\n",
    "        print(i,j)"
   ]
  },
  {
   "cell_type": "code",
   "execution_count": 18,
   "id": "f590af20",
   "metadata": {},
   "outputs": [
    {
     "name": "stdout",
     "output_type": "stream",
     "text": [
      "*\n",
      "**\n",
      "***\n",
      "****\n"
     ]
    }
   ],
   "source": [
    "# triangle pattern code\n",
    "\n",
    "rows = int(input('Enter the number of rows:'))\n",
    "\n",
    "for i in range(1, rows+1):\n",
    "    for j in range(1, i+1):\n",
    "        print('*', end='')\n",
    "    print()"
   ]
  },
  {
   "cell_type": "code",
   "execution_count": 19,
   "id": "a2b936cf",
   "metadata": {},
   "outputs": [
    {
     "name": "stdout",
     "output_type": "stream",
     "text": [
      "1\n",
      "121\n",
      "12321\n",
      "1234321\n"
     ]
    }
   ],
   "source": [
    "# pattern\n",
    "# 1\n",
    "# 121\n",
    "# 12321\n",
    "# 1234321\n",
    "\n",
    "# code from here\n",
    "rows = int(input('enter the number of rows:'))\n",
    "\n",
    "for i in range(1, rows+1):\n",
    "    for j in range(1, i+1):\n",
    "        print(j, end = '')\n",
    "    for k in range(i-1, 0, -1):\n",
    "        print(k, end='')\n",
    "    print()"
   ]
  },
  {
   "cell_type": "markdown",
   "id": "f2a6fd5d",
   "metadata": {},
   "source": [
    "### loop control statements"
   ]
  },
  {
   "cell_type": "markdown",
   "id": "ddbaf6d7",
   "metadata": {},
   "source": [
    "#### break"
   ]
  },
  {
   "cell_type": "code",
   "execution_count": 20,
   "id": "a18a611b",
   "metadata": {},
   "outputs": [
    {
     "name": "stdout",
     "output_type": "stream",
     "text": [
      "1\n",
      "2\n",
      "3\n",
      "4\n"
     ]
    }
   ],
   "source": [
    "for i in range(1,10):\n",
    "    if i == 5:\n",
    "        break\n",
    "    print(i)"
   ]
  },
  {
   "cell_type": "code",
   "execution_count": 26,
   "id": "44ef27bd",
   "metadata": {},
   "outputs": [
    {
     "name": "stdout",
     "output_type": "stream",
     "text": [
      "1 2 3 5 7 11 13 17 19 23 29 31 37 41 43 47 53 59 61 67 71 73 79 83 89 97 "
     ]
    }
   ],
   "source": [
    "# print all the prime numbers between two numbers\n",
    "# for-else construct in python\n",
    "\n",
    "lower = int(input('enter the lower limit:'))\n",
    "upper = int(input('enter the upper limit:'))\n",
    "\n",
    "for i in range(lower, upper+1):\n",
    "    for j in range(2,i):\n",
    "        if i%j == 0:\n",
    "            break\n",
    "    else:\n",
    "        print(i, end=' ')"
   ]
  },
  {
   "cell_type": "code",
   "execution_count": 28,
   "id": "957f5b2c",
   "metadata": {},
   "outputs": [
    {
     "name": "stdout",
     "output_type": "stream",
     "text": [
      "2 3 5 7 11 13 17 19 23 29 31 37 41 43 47 53 59 61 67 71 73 79 83 89 97 "
     ]
    }
   ],
   "source": [
    "import math\n",
    "\n",
    "lower = int(input('Enter the lower limit: '))\n",
    "upper = int(input('Enter the upper limit: '))\n",
    "\n",
    "for i in range(lower, upper + 1):\n",
    "    if i < 2: \n",
    "        continue\n",
    "\n",
    "    is_prime = True\n",
    "    for j in range(2, int(math.sqrt(i)) + 1):\n",
    "        if i % j == 0:\n",
    "            is_prime = False\n",
    "            break\n",
    "\n",
    "    if is_prime:\n",
    "        print(i, end=' ')"
   ]
  },
  {
   "cell_type": "markdown",
   "id": "0f1f6bc1",
   "metadata": {},
   "source": [
    "#### continue"
   ]
  },
  {
   "cell_type": "code",
   "execution_count": 29,
   "id": "5d1409cc",
   "metadata": {},
   "outputs": [
    {
     "name": "stdout",
     "output_type": "stream",
     "text": [
      "1\n",
      "2\n",
      "3\n",
      "4\n",
      "6\n",
      "7\n",
      "8\n",
      "9\n"
     ]
    }
   ],
   "source": [
    "for i in range(1,10):\n",
    "    if i == 5:\n",
    "        continue\n",
    "    print(i)"
   ]
  },
  {
   "cell_type": "code",
   "execution_count": null,
   "id": "ec0e6e1e",
   "metadata": {},
   "outputs": [],
   "source": [
    "# real example: skip products for out-of-stock product in e-commerce "
   ]
  },
  {
   "cell_type": "code",
   "execution_count": 30,
   "id": "4fdddef1",
   "metadata": {},
   "outputs": [],
   "source": [
    "# pass \n",
    "for i in range(1,10):\n",
    "    pass"
   ]
  },
  {
   "cell_type": "code",
   "execution_count": null,
   "id": "f65464a8",
   "metadata": {},
   "outputs": [],
   "source": []
  }
 ],
 "metadata": {
  "kernelspec": {
   "display_name": "base",
   "language": "python",
   "name": "python3"
  },
  "language_info": {
   "codemirror_mode": {
    "name": "ipython",
    "version": 3
   },
   "file_extension": ".py",
   "mimetype": "text/x-python",
   "name": "python",
   "nbconvert_exporter": "python",
   "pygments_lexer": "ipython3",
   "version": "3.12.7"
  }
 },
 "nbformat": 4,
 "nbformat_minor": 5
}
