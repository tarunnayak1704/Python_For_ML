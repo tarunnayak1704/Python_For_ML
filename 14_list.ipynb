{
 "cells": [
  {
   "cell_type": "markdown",
   "id": "e3d465fd",
   "metadata": {},
   "source": [
    "List is a data type where you can store multiple items under 1 name. More technically, lists act like dynamic arrays which means you can add more items on the fly."
   ]
  },
  {
   "cell_type": "markdown",
   "id": "f9f8433e",
   "metadata": {},
   "source": [
    "### Array Vs List\n",
    "\n",
    "- Fixed (Array) Vs Dynamic Size (List)\n",
    "- Convenience -> Hetrogeneous (List)\n",
    "- Speed of Execution (Array faster)\n",
    "- Memory (List require more memory)"
   ]
  },
  {
   "cell_type": "code",
   "execution_count": 1,
   "id": "d7f30223",
   "metadata": {},
   "outputs": [
    {
     "name": "stdout",
     "output_type": "stream",
     "text": [
      "4368770816\n",
      "**************************************************\n",
      "4303544080\n",
      "4303544112\n",
      "4303544144\n",
      "**************************************************\n",
      "4303544080\n",
      "4303544112\n",
      "4303544144\n"
     ]
    }
   ],
   "source": [
    "L = [1,2,3]\n",
    "\n",
    "print(id(L))\n",
    "print('*'*50)\n",
    "print(id(L[0]))\n",
    "print(id(L[1]))\n",
    "print(id(L[2]))\n",
    "print('*'*50)\n",
    "print(id(1))\n",
    "print(id(2))\n",
    "print(id(3))"
   ]
  },
  {
   "cell_type": "markdown",
   "id": "1d7827ac",
   "metadata": {},
   "source": [
    "### How lists are stored in memory ?\n",
    "- referential array\n",
    "- dynamic array\n",
    "\n",
    "### Characterstics of a List\n",
    "- ordered\n",
    "- mutable\n",
    "- heterogeneous\n",
    "- duplicates allowed\n",
    "- dynamic\n",
    "- nested\n",
    "- items can be accessed\n",
    "- can contain any kind of objects in python"
   ]
  },
  {
   "cell_type": "markdown",
   "id": "3661510e",
   "metadata": {},
   "source": [
    "#### Creating list"
   ]
  },
  {
   "cell_type": "code",
   "execution_count": 2,
   "id": "4c0ea8c1",
   "metadata": {},
   "outputs": [
    {
     "name": "stdout",
     "output_type": "stream",
     "text": [
      "[]\n"
     ]
    }
   ],
   "source": [
    "# empty\n",
    "print([])"
   ]
  },
  {
   "cell_type": "code",
   "execution_count": 3,
   "id": "28a58a11",
   "metadata": {},
   "outputs": [
    {
     "name": "stdout",
     "output_type": "stream",
     "text": [
      "[1, 2, 3, 4, 5]\n",
      "[1, 2, 3, [4, 5]]\n",
      "[[[1, 2], [3, 4]], [[5, 6], [7, 8]]]\n",
      "[1, True, 5.6, (5+6j), 'Hello']\n",
      "['h', 'e', 'l', 'l', 'o']\n"
     ]
    }
   ],
   "source": [
    "# 1D -> Homo\n",
    "print([1,2,3,4,5])\n",
    "# 2D\n",
    "print([1,2,3,[4,5]])\n",
    "# 3D\n",
    "print([[[1,2],[3,4]],[[5,6],[7,8]]])\n",
    "# Hetrogenous\n",
    "print([1,True,5.6,5+6j,'Hello'])\n",
    "# Using Type conversion\n",
    "print(list('hello'))"
   ]
  },
  {
   "cell_type": "markdown",
   "id": "337321f9",
   "metadata": {},
   "source": [
    "#### accessing items from a list"
   ]
  },
  {
   "cell_type": "code",
   "execution_count": 4,
   "id": "b5cd9f29",
   "metadata": {},
   "outputs": [
    {
     "name": "stdout",
     "output_type": "stream",
     "text": [
      "[6, 5, 4, 3, 2, 1]\n"
     ]
    }
   ],
   "source": [
    "# Indexing\n",
    "L = [[[1,2],[3,4]],[[5,6],[7,8]]]\n",
    "#positive\n",
    "#print(L[0][0][1])\n",
    "\n",
    "# Slicing\n",
    "L = [1,2,3,4,5,6]\n",
    "\n",
    "print(L[::-1])"
   ]
  },
  {
   "cell_type": "markdown",
   "id": "e3069407",
   "metadata": {},
   "source": [
    "#### adding item"
   ]
  },
  {
   "cell_type": "code",
   "execution_count": 5,
   "id": "70df44c9",
   "metadata": {},
   "outputs": [
    {
     "name": "stdout",
     "output_type": "stream",
     "text": [
      "[1, 2, 3, 4, True]\n"
     ]
    }
   ],
   "source": [
    "# append\n",
    "l = [1,2,3,4]\n",
    "l.append(True)\n",
    "print(l)"
   ]
  },
  {
   "cell_type": "code",
   "execution_count": 6,
   "id": "91f5236c",
   "metadata": {},
   "outputs": [
    {
     "name": "stdout",
     "output_type": "stream",
     "text": [
      "[1, 2, 3, 4, 6, 7, 8]\n"
     ]
    }
   ],
   "source": [
    "# extend\n",
    "l = [1,2,3,4]\n",
    "l.extend([6,7,8])\n",
    "print(l)"
   ]
  },
  {
   "cell_type": "code",
   "execution_count": 7,
   "metadata": {},
   "outputs": [
    {
     "name": "stdout",
     "output_type": "stream",
     "text": [
      "[1, 2, 3, 4, [6, 7, 8]]\n"
     ]
    }
   ],
   "source": [
    "l = [1,2,3,4]\n",
    "l.append([6,7,8])\n",
    "print(l)"
   ]
  },
  {
   "cell_type": "code",
   "execution_count": 8,
   "id": "e14456df",
   "metadata": {},
   "outputs": [
    {
     "name": "stdout",
     "output_type": "stream",
     "text": [
      "[1, 2, 3, 4, 5, 'd', 'e', 'l', 'h', 'i']\n"
     ]
    }
   ],
   "source": [
    "L = [1,2,3,4,5]\n",
    "L.extend('delhi')\n",
    "print(L)"
   ]
  },
  {
   "cell_type": "code",
   "execution_count": 9,
   "id": "d5f77527",
   "metadata": {},
   "outputs": [
    {
     "name": "stdout",
     "output_type": "stream",
     "text": [
      "[1, 100, 2, 3, 4, 5]\n"
     ]
    }
   ],
   "source": [
    "# insert\n",
    "L = [1,2,3,4,5]\n",
    "\n",
    "L.insert(1,100)\n",
    "print(L)"
   ]
  },
  {
   "cell_type": "markdown",
   "id": "81b4938a",
   "metadata": {},
   "source": [
    "### editing items in a list"
   ]
  },
  {
   "cell_type": "code",
   "execution_count": 10,
   "id": "e8d33878",
   "metadata": {},
   "outputs": [
    {
     "name": "stdout",
     "output_type": "stream",
     "text": [
      "[1, 200, 300, 400, 500]\n"
     ]
    }
   ],
   "source": [
    "L = [1,2,3,4,5]\n",
    "\n",
    "# editing with indexing\n",
    "L[-1] = 500\n",
    "\n",
    "# editing with slicing\n",
    "L[1:4] = [200,300,400]\n",
    "\n",
    "print(L)"
   ]
  },
  {
   "cell_type": "markdown",
   "id": "e1834611",
   "metadata": {},
   "source": [
    "#### deleting item(s)"
   ]
  },
  {
   "cell_type": "code",
   "execution_count": 11,
   "id": "cd0a725b",
   "metadata": {},
   "outputs": [
    {
     "name": "stdout",
     "output_type": "stream",
     "text": [
      "[1, 4]\n"
     ]
    }
   ],
   "source": [
    "# del\n",
    "L = [1,2,3,4,5]\n",
    "\n",
    "# indexing\n",
    "del L[-1]\n",
    "\n",
    "# slicing\n",
    "del L[1:3]\n",
    "print(L)"
   ]
  },
  {
   "cell_type": "code",
   "execution_count": 12,
   "id": "0d648379",
   "metadata": {},
   "outputs": [
    {
     "data": {
      "text/plain": [
       "[1, 2, 4, 3, 5, 4, 3]"
      ]
     },
     "execution_count": 12,
     "metadata": {},
     "output_type": "execute_result"
    }
   ],
   "source": [
    "# remove\n",
    "l = [1,2,3,4,3,5,4,3]\n",
    "l.remove(3)\n",
    "l"
   ]
  },
  {
   "cell_type": "code",
   "execution_count": 14,
   "id": "197a34d6",
   "metadata": {},
   "outputs": [
    {
     "name": "stdout",
     "output_type": "stream",
     "text": [
      "[1, 2, 3, 4]\n"
     ]
    }
   ],
   "source": [
    "# pop\n",
    "L = [1,2,3,4,5]\n",
    "L.pop()\n",
    "print(L)"
   ]
  },
  {
   "cell_type": "code",
   "execution_count": 15,
   "id": "12485974",
   "metadata": {},
   "outputs": [
    {
     "name": "stdout",
     "output_type": "stream",
     "text": [
      "[]\n"
     ]
    }
   ],
   "source": [
    "# clear\n",
    "L = [1,2,3,4,5]\n",
    "L.clear()\n",
    "print(L)"
   ]
  },
  {
   "cell_type": "markdown",
   "id": "5871e504",
   "metadata": {},
   "source": [
    "#### Operations on lists"
   ]
  },
  {
   "cell_type": "code",
   "execution_count": 16,
   "id": "c73667e6",
   "metadata": {},
   "outputs": [
    {
     "name": "stdout",
     "output_type": "stream",
     "text": [
      "[1, 2, 3, 4, 5, 6, 7, 8]\n"
     ]
    }
   ],
   "source": [
    "# arithmetic\n",
    "l1 = [1,2,3,4]\n",
    "l2 = [5,6,7,8]\n",
    "\n",
    "# concatenation/merge\n",
    "print(l1+l2)"
   ]
  },
  {
   "cell_type": "code",
   "execution_count": 17,
   "id": "09680cd3",
   "metadata": {},
   "outputs": [
    {
     "name": "stdout",
     "output_type": "stream",
     "text": [
      "[1, 2, 3, 4, 1, 2, 3, 4, 1, 2, 3, 4]\n"
     ]
    }
   ],
   "source": [
    "print(l1*3)"
   ]
  },
  {
   "cell_type": "code",
   "execution_count": 18,
   "id": "c2e03991",
   "metadata": {},
   "outputs": [
    {
     "name": "stdout",
     "output_type": "stream",
     "text": [
      "False\n",
      "True\n"
     ]
    }
   ],
   "source": [
    "# membership operator\n",
    "L1 = [1,2,3,4,5]\n",
    "L2 = [1,2,3,4,[5,6]]\n",
    "\n",
    "print(5 not in L1)\n",
    "print([5,6] in L2)"
   ]
  },
  {
   "cell_type": "code",
   "execution_count": 19,
   "id": "c5fe567e",
   "metadata": {},
   "outputs": [
    {
     "name": "stdout",
     "output_type": "stream",
     "text": [
      "[[1, 2], [3, 4]]\n",
      "[[5, 6], [7, 8]]\n"
     ]
    }
   ],
   "source": [
    "# Loops\n",
    "L1 = [1,2,3,4,5]\n",
    "L2 = [1,2,3,4,[5,6]]\n",
    "L3 = [[[1,2],[3,4]],[[5,6],[7,8]]]\n",
    "\n",
    "for i in L3:\n",
    "  print(i)\n",
    "  "
   ]
  },
  {
   "cell_type": "code",
   "execution_count": 20,
   "id": "b1a1f9f6",
   "metadata": {},
   "outputs": [
    {
     "name": "stdout",
     "output_type": "stream",
     "text": [
      "5 0 7\n",
      "[7, 5, 2, 1, 0]\n"
     ]
    }
   ],
   "source": [
    "# list functions\n",
    "l = [2,1,5,7,0]\n",
    "\n",
    "print(len(l), min(l), max(l))\n",
    "print(sorted(l, reverse=True))"
   ]
  },
  {
   "cell_type": "code",
   "execution_count": 21,
   "id": "a2851423",
   "metadata": {},
   "outputs": [
    {
     "data": {
      "text/plain": [
       "1"
      ]
     },
     "execution_count": 21,
     "metadata": {},
     "output_type": "execute_result"
    }
   ],
   "source": [
    "# count\n",
    "l = [1,2,3,4,5]\n",
    "l.count(4)"
   ]
  },
  {
   "cell_type": "code",
   "execution_count": 22,
   "id": "43fc2fc6",
   "metadata": {},
   "outputs": [
    {
     "data": {
      "text/plain": [
       "0"
      ]
     },
     "execution_count": 22,
     "metadata": {},
     "output_type": "execute_result"
    }
   ],
   "source": [
    "# index\n",
    "L = [1,2,1,3,4,1,5]\n",
    "L.index(1)"
   ]
  },
  {
   "cell_type": "code",
   "execution_count": 23,
   "id": "585d1d92",
   "metadata": {},
   "outputs": [
    {
     "name": "stdout",
     "output_type": "stream",
     "text": [
      "[0, 7, 5, 1, 2]\n"
     ]
    }
   ],
   "source": [
    "# reverse\n",
    "L = [2,1,5,7,0]\n",
    "# permanently reverses the list\n",
    "L.reverse()\n",
    "print(L)"
   ]
  },
  {
   "cell_type": "code",
   "execution_count": 24,
   "id": "12c7306d",
   "metadata": {},
   "outputs": [
    {
     "name": "stdout",
     "output_type": "stream",
     "text": [
      "[2, 1, 5, 7, 0]\n",
      "[0, 1, 2, 5, 7]\n",
      "[2, 1, 5, 7, 0]\n",
      "[0, 1, 2, 5, 7]\n"
     ]
    }
   ],
   "source": [
    "# sort (vs sorted)\n",
    "L = [2,1,5,7,0]\n",
    "print(L)\n",
    "print(sorted(L))\n",
    "print(L)\n",
    "L.sort()\n",
    "print(L)"
   ]
  },
  {
   "cell_type": "code",
   "execution_count": 25,
   "id": "471366d2",
   "metadata": {},
   "outputs": [
    {
     "name": "stdout",
     "output_type": "stream",
     "text": [
      "[2, 1, 5, 7, 0]\n",
      "4368800320\n",
      "[2, 1, 5, 7, 0]\n",
      "4368805184\n"
     ]
    }
   ],
   "source": [
    "# copy -> shallow\n",
    "L = [2,1,5,7,0]\n",
    "print(L)\n",
    "print(id(L))\n",
    "L1 = L.copy()\n",
    "print(L1)\n",
    "print(id(L1))"
   ]
  },
  {
   "cell_type": "markdown",
   "id": "171abbcf",
   "metadata": {},
   "source": [
    "#### list comprehension"
   ]
  },
  {
   "cell_type": "code",
   "execution_count": 26,
   "id": "4a93fe61",
   "metadata": {},
   "outputs": [
    {
     "name": "stdout",
     "output_type": "stream",
     "text": [
      "[1, 2, 3, 4, 5, 6, 7, 8, 9, 10]\n"
     ]
    }
   ],
   "source": [
    "# Add 1 to 10 numbers to a list\n",
    "L = []\n",
    "\n",
    "for i in range(1,11):\n",
    "  L.append(i)\n",
    "\n",
    "print(L)"
   ]
  },
  {
   "cell_type": "code",
   "execution_count": 27,
   "id": "701f3e8b",
   "metadata": {},
   "outputs": [
    {
     "data": {
      "text/plain": [
       "[1, 2, 3, 4, 5, 6, 7, 8, 9, 10]"
      ]
     },
     "execution_count": 27,
     "metadata": {},
     "output_type": "execute_result"
    }
   ],
   "source": [
    "[i for i in range(1,11)]"
   ]
  },
  {
   "cell_type": "code",
   "execution_count": 28,
   "id": "b999eede",
   "metadata": {},
   "outputs": [
    {
     "data": {
      "text/plain": [
       "[-6, -9, -12]"
      ]
     },
     "execution_count": 28,
     "metadata": {},
     "output_type": "execute_result"
    }
   ],
   "source": [
    "# scalar multiplication on a vector\n",
    "v = [2,3,4]\n",
    "s = -3\n",
    "[s*i for i in v]"
   ]
  },
  {
   "cell_type": "code",
   "execution_count": 29,
   "id": "6c28fd87",
   "metadata": {},
   "outputs": [
    {
     "data": {
      "text/plain": [
       "[1, 4, 9, 16, 25]"
      ]
     },
     "execution_count": 29,
     "metadata": {},
     "output_type": "execute_result"
    }
   ],
   "source": [
    "# Add squares\n",
    "L = [1,2,3,4,5]\n",
    "[i**2 for i in L]"
   ]
  },
  {
   "cell_type": "code",
   "execution_count": 30,
   "id": "a2540941",
   "metadata": {},
   "outputs": [
    {
     "data": {
      "text/plain": [
       "[5, 10, 15, 20, 25, 30, 35, 40, 45, 50]"
      ]
     },
     "execution_count": 30,
     "metadata": {},
     "output_type": "execute_result"
    }
   ],
   "source": [
    "# Print all numbers divisible by 5 in the range of 1 to 50\n",
    "[i for i in range(1,51) if i%5 == 0]"
   ]
  },
  {
   "cell_type": "code",
   "execution_count": 31,
   "id": "70c6c012",
   "metadata": {},
   "outputs": [
    {
     "data": {
      "text/plain": [
       "['python', 'php']"
      ]
     },
     "execution_count": 31,
     "metadata": {},
     "output_type": "execute_result"
    }
   ],
   "source": [
    "# find languages which start with letter p\n",
    "languages = ['java','python','php','c','javascript']\n",
    "[language for language in languages if language.startswith('p')]"
   ]
  },
  {
   "cell_type": "code",
   "execution_count": 32,
   "id": "f1e7827c",
   "metadata": {},
   "outputs": [
    {
     "data": {
      "text/plain": [
       "['apple']"
      ]
     },
     "execution_count": 32,
     "metadata": {},
     "output_type": "execute_result"
    }
   ],
   "source": [
    "# Nested if with List Comprehension\n",
    "basket = ['apple','guava','cherry','banana']\n",
    "my_fruits = ['apple','kiwi','grapes','banana']\n",
    "\n",
    "# add new list from my_fruits and items if the fruit exists in basket and also starts with 'a'\n",
    "\n",
    "[fruit for fruit in my_fruits if fruit in basket if fruit.startswith('a')]"
   ]
  },
  {
   "cell_type": "code",
   "execution_count": 33,
   "id": "633bb61e",
   "metadata": {},
   "outputs": [
    {
     "data": {
      "text/plain": [
       "[[1, 2, 3], [2, 4, 6], [3, 6, 9]]"
      ]
     },
     "execution_count": 33,
     "metadata": {},
     "output_type": "execute_result"
    }
   ],
   "source": [
    "# Print a (3,3) matrix using list comprehension -> Nested List comprehension\n",
    "[[i*j for i in range(1,4)] for j in range(1,4)]"
   ]
  },
  {
   "cell_type": "code",
   "execution_count": 34,
   "id": "b9ec7e1b",
   "metadata": {},
   "outputs": [
    {
     "data": {
      "text/plain": [
       "[5, 6, 7, 8, 10, 12, 14, 16, 15, 18, 21, 24, 20, 24, 28, 32]"
      ]
     },
     "execution_count": 34,
     "metadata": {},
     "output_type": "execute_result"
    }
   ],
   "source": [
    "# cartesian products -> List comprehension on 2 lists together\n",
    "L1 = [1,2,3,4]\n",
    "L2 = [5,6,7,8]\n",
    "\n",
    "[i*j for i in L1 for j in L2]"
   ]
  },
  {
   "cell_type": "code",
   "execution_count": 35,
   "id": "168eb920",
   "metadata": {},
   "outputs": [
    {
     "name": "stdout",
     "output_type": "stream",
     "text": [
      "1\n",
      "2\n",
      "3\n",
      "4\n"
     ]
    }
   ],
   "source": [
    "# two way to traverse a list\n",
    "# itemwise\n",
    "L = [1,2,3,4]\n",
    "\n",
    "for i in L:\n",
    "  print(i)"
   ]
  },
  {
   "cell_type": "code",
   "execution_count": 36,
   "id": "7b94ee5f",
   "metadata": {},
   "outputs": [
    {
     "name": "stdout",
     "output_type": "stream",
     "text": [
      "1\n",
      "2\n",
      "3\n",
      "4\n"
     ]
    }
   ],
   "source": [
    "# indexwise\n",
    "L = [1,2,3,4]\n",
    "\n",
    "for i in range(0,len(L)):\n",
    "  print(L[i])"
   ]
  },
  {
   "cell_type": "markdown",
   "id": "499c4a6c",
   "metadata": {},
   "source": [
    "#### Zip"
   ]
  },
  {
   "cell_type": "code",
   "execution_count": 40,
   "id": "41e46e42",
   "metadata": {},
   "outputs": [
    {
     "data": {
      "text/plain": [
       "[0, 0, 0, -1]"
      ]
     },
     "execution_count": 40,
     "metadata": {},
     "output_type": "execute_result"
    }
   ],
   "source": [
    "l1 = [1,2,3,4]\n",
    "l2 = [-1,-2,-3,-5]\n",
    "\n",
    "list(zip(l1,l2))\n",
    "\n",
    "[i+j for i,j in zip(l1,l2)]"
   ]
  },
  {
   "cell_type": "code",
   "execution_count": 41,
   "id": "9167b7b3",
   "metadata": {},
   "outputs": [
    {
     "name": "stdout",
     "output_type": "stream",
     "text": [
      "[1, 2, <built-in function print>, <class 'type'>, <bound method Kernel.raw_input of <ipykernel.ipkernel.IPythonKernel object at 0x10415de50>>]\n"
     ]
    }
   ],
   "source": [
    "L = [1,2,print,type,input]\n",
    "\n",
    "print(L)"
   ]
  }
 ],
 "metadata": {
  "kernelspec": {
   "display_name": "venv",
   "language": "python",
   "name": "python3"
  },
  "language_info": {
   "codemirror_mode": {
    "name": "ipython",
    "version": 3
   },
   "file_extension": ".py",
   "mimetype": "text/x-python",
   "name": "python",
   "nbconvert_exporter": "python",
   "pygments_lexer": "ipython3",
   "version": "3.12.7"
  }
 },
 "nbformat": 4,
 "nbformat_minor": 5
}
