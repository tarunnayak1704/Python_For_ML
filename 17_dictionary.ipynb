{
 "cells": [
  {
   "cell_type": "markdown",
   "id": "537ff220",
   "metadata": {},
   "source": [
    "### DICTIONARY\n",
    "- collection of key values\n",
    "- mutable\n",
    "- indexing has no meaning\n",
    "- keys can't be duplicated\n",
    "- keys can't be mutable items"
   ]
  },
  {
   "cell_type": "markdown",
   "id": "f143165a",
   "metadata": {},
   "source": [
    "#### create dictionary"
   ]
  },
  {
   "cell_type": "code",
   "execution_count": 1,
   "id": "1a91b390",
   "metadata": {},
   "outputs": [],
   "source": [
    "# empty dictionary\n",
    "d = {}"
   ]
  },
  {
   "cell_type": "code",
   "execution_count": 2,
   "id": "869d2705",
   "metadata": {},
   "outputs": [
    {
     "name": "stdout",
     "output_type": "stream",
     "text": [
      "{'name': 'tarun', 'gender': 'Male'}\n"
     ]
    }
   ],
   "source": [
    "# 1d dictionary\n",
    "d1 = {'name': 'tarun', 'gender': 'Male'}\n",
    "print(d1)"
   ]
  },
  {
   "cell_type": "code",
   "execution_count": 3,
   "id": "17f87ad3",
   "metadata": {},
   "outputs": [
    {
     "name": "stdout",
     "output_type": "stream",
     "text": [
      "{(1, 2, 3): 1, 'name': 'tarun'}\n"
     ]
    }
   ],
   "source": [
    "# with mixed keys\n",
    "d2 = {(1,2,3):1, 'name':'tarun'}\n",
    "print(d2)"
   ]
  },
  {
   "cell_type": "code",
   "execution_count": 4,
   "id": "c78bc477",
   "metadata": {},
   "outputs": [
    {
     "name": "stdout",
     "output_type": "stream",
     "text": [
      "{'name': 'tarun', 'college': 'IISc', 'Sem': 4, 'Subjects': {'python': 50, 'statistics': 60, 'SQL': 48}}\n"
     ]
    }
   ],
   "source": [
    "# 2d dictionary -> JSON\n",
    "s = {\n",
    "    'name':'tarun',\n",
    "    'college':'IISc',\n",
    "    'Sem': 4,\n",
    "    'Subjects':{\n",
    "        'python':50,\n",
    "        'statistics':60,\n",
    "        'SQL':48\n",
    "    }\n",
    "}\n",
    "print(s)"
   ]
  },
  {
   "cell_type": "code",
   "execution_count": 5,
   "id": "71daa7ba",
   "metadata": {},
   "outputs": [
    {
     "name": "stdout",
     "output_type": "stream",
     "text": [
      "{'name': 'tarun', 'age': 31, 'gender': 'male'}\n"
     ]
    }
   ],
   "source": [
    "# using sequence and dict function\n",
    "d4 = dict([('name','tarun'),('age', 31), ('gender', 'male')])\n",
    "print(d4)"
   ]
  },
  {
   "cell_type": "code",
   "execution_count": 6,
   "id": "cb1f5ddf",
   "metadata": {},
   "outputs": [
    {
     "name": "stdout",
     "output_type": "stream",
     "text": [
      "{'name': 'nitish'}\n"
     ]
    }
   ],
   "source": [
    "# check if duplicate keys possible or not\n",
    "d5 = {'name':'tarun', 'name':'nitish'}\n",
    "print(d5)\n",
    "# doesn't throw error but the key is replaced"
   ]
  },
  {
   "cell_type": "code",
   "execution_count": 7,
   "id": "c1be2f2e",
   "metadata": {},
   "outputs": [
    {
     "name": "stdout",
     "output_type": "stream",
     "text": [
      "{'name': 'tarun', (1, 2, 3): 2}\n"
     ]
    }
   ],
   "source": [
    "# immutable items as key\n",
    "d6 = {'name':'tarun', (1,2,3): 2}\n",
    "print(d6)"
   ]
  },
  {
   "cell_type": "code",
   "execution_count": 8,
   "id": "6f406280",
   "metadata": {},
   "outputs": [
    {
     "ename": "TypeError",
     "evalue": "unhashable type: 'list'",
     "output_type": "error",
     "traceback": [
      "\u001b[31m---------------------------------------------------------------------------\u001b[39m",
      "\u001b[31mTypeError\u001b[39m                                 Traceback (most recent call last)",
      "\u001b[36mCell\u001b[39m\u001b[36m \u001b[39m\u001b[32mIn[8]\u001b[39m\u001b[32m, line 2\u001b[39m\n\u001b[32m      1\u001b[39m \u001b[38;5;66;03m# mutable item as key\u001b[39;00m\n\u001b[32m----> \u001b[39m\u001b[32m2\u001b[39m d7 = {\u001b[33m'\u001b[39m\u001b[33mname\u001b[39m\u001b[33m'\u001b[39m:\u001b[33m'\u001b[39m\u001b[33mtarun\u001b[39m\u001b[33m'\u001b[39m, [\u001b[32m1\u001b[39m,\u001b[32m2\u001b[39m,\u001b[32m3\u001b[39m]:\u001b[32m3\u001b[39m}\n\u001b[32m      3\u001b[39m \u001b[38;5;28mprint\u001b[39m(d7)\n",
      "\u001b[31mTypeError\u001b[39m: unhashable type: 'list'"
     ]
    }
   ],
   "source": [
    "# mutable item as key\n",
    "d7 = {'name':'tarun', [1,2,3]:3}\n",
    "print(d7)"
   ]
  },
  {
   "cell_type": "markdown",
   "id": "41115a87",
   "metadata": {},
   "source": [
    "#### accessing items"
   ]
  },
  {
   "cell_type": "code",
   "execution_count": 9,
   "id": "705eb8eb",
   "metadata": {},
   "outputs": [],
   "source": [
    "my_dict = {'name':'tarun', 'age': 31}"
   ]
  },
  {
   "cell_type": "code",
   "execution_count": 10,
   "id": "1a059259",
   "metadata": {},
   "outputs": [
    {
     "data": {
      "text/plain": [
       "31"
      ]
     },
     "execution_count": 10,
     "metadata": {},
     "output_type": "execute_result"
    }
   ],
   "source": [
    "# []\n",
    "my_dict['age']"
   ]
  },
  {
   "cell_type": "code",
   "execution_count": 11,
   "id": "d4d8d94e",
   "metadata": {},
   "outputs": [
    {
     "data": {
      "text/plain": [
       "31"
      ]
     },
     "execution_count": 11,
     "metadata": {},
     "output_type": "execute_result"
    }
   ],
   "source": [
    "# get\n",
    "my_dict.get('age')"
   ]
  },
  {
   "cell_type": "code",
   "execution_count": 12,
   "id": "58ed512c",
   "metadata": {},
   "outputs": [
    {
     "data": {
      "text/plain": [
       "50"
      ]
     },
     "execution_count": 12,
     "metadata": {},
     "output_type": "execute_result"
    }
   ],
   "source": [
    "s['Subjects']['python']"
   ]
  },
  {
   "cell_type": "markdown",
   "id": "1a12902b",
   "metadata": {},
   "source": [
    "#### adding key value pair"
   ]
  },
  {
   "cell_type": "code",
   "execution_count": 13,
   "id": "1f69abe6",
   "metadata": {},
   "outputs": [
    {
     "data": {
      "text/plain": [
       "{'name': 'tarun', 'age': 31, 'gender': 'male'}"
      ]
     },
     "execution_count": 13,
     "metadata": {},
     "output_type": "execute_result"
    }
   ],
   "source": [
    "d4"
   ]
  },
  {
   "cell_type": "code",
   "execution_count": 14,
   "id": "9f36a6c8",
   "metadata": {},
   "outputs": [
    {
     "data": {
      "text/plain": [
       "{'name': 'tarun', 'age': 31, 'gender': 'male', 'college': 'IIEST'}"
      ]
     },
     "execution_count": 14,
     "metadata": {},
     "output_type": "execute_result"
    }
   ],
   "source": [
    "d4['college'] = 'IIEST'\n",
    "d4"
   ]
  },
  {
   "cell_type": "code",
   "execution_count": 15,
   "id": "ec01300c",
   "metadata": {},
   "outputs": [
    {
     "data": {
      "text/plain": [
       "{'name': 'tarun',\n",
       " 'age': 31,\n",
       " 'gender': 'male',\n",
       " 'college': 'IIEST',\n",
       " 'weight': 70}"
      ]
     },
     "execution_count": 15,
     "metadata": {},
     "output_type": "execute_result"
    }
   ],
   "source": [
    "d4['weight'] = 70\n",
    "d4"
   ]
  },
  {
   "cell_type": "code",
   "execution_count": 16,
   "id": "f5bb66f1",
   "metadata": {},
   "outputs": [
    {
     "data": {
      "text/plain": [
       "{'name': 'tarun',\n",
       " 'college': 'IISc',\n",
       " 'Sem': 4,\n",
       " 'Subjects': {'python': 50, 'statistics': 60, 'SQL': 48, 'dsa': 35}}"
      ]
     },
     "execution_count": 16,
     "metadata": {},
     "output_type": "execute_result"
    }
   ],
   "source": [
    "s['Subjects']['dsa'] = 35\n",
    "s"
   ]
  },
  {
   "cell_type": "markdown",
   "id": "537eef80",
   "metadata": {},
   "source": [
    "#### remove key-value pair"
   ]
  },
  {
   "cell_type": "code",
   "execution_count": 17,
   "id": "e76b8fc5",
   "metadata": {},
   "outputs": [
    {
     "data": {
      "text/plain": [
       "{'name': 'tarun',\n",
       " 'age': 32,\n",
       " 'gender': 'male',\n",
       " 'weight': 69,\n",
       " 'college': 'IIEST'}"
      ]
     },
     "execution_count": 17,
     "metadata": {},
     "output_type": "execute_result"
    }
   ],
   "source": [
    "d = {'name':'tarun', 'age': 32, 'gender':'male', 'weight':69, 'college':'IIEST'}\n",
    "d"
   ]
  },
  {
   "cell_type": "code",
   "execution_count": 18,
   "id": "8653eba6",
   "metadata": {},
   "outputs": [
    {
     "data": {
      "text/plain": [
       "{'name': 'tarun', 'age': 32, 'gender': 'male', 'weight': 69}"
      ]
     },
     "execution_count": 18,
     "metadata": {},
     "output_type": "execute_result"
    }
   ],
   "source": [
    "# pop\n",
    "d.pop('college')\n",
    "d"
   ]
  },
  {
   "cell_type": "code",
   "execution_count": 19,
   "id": "8ab65700",
   "metadata": {},
   "outputs": [
    {
     "name": "stdout",
     "output_type": "stream",
     "text": [
      "{'name': 'tarun', 'age': 32, 'gender': 'male', 'weight': 69}\n",
      "{'name': 'tarun', 'age': 32, 'gender': 'male'}\n"
     ]
    }
   ],
   "source": [
    "# popitem -> delets the last item from a dictionary \n",
    "d = {'name':'tarun', 'age': 32, 'gender':'male', 'weight':69, 'college':'IIEST'}\n",
    "d.popitem()\n",
    "print(d)\n",
    "d.popitem()\n",
    "print(d)"
   ]
  },
  {
   "cell_type": "code",
   "execution_count": 20,
   "id": "1d0dd5d2",
   "metadata": {},
   "outputs": [
    {
     "data": {
      "text/plain": [
       "{'age': 32, 'gender': 'male', 'weight': 69, 'college': 'IIEST'}"
      ]
     },
     "execution_count": 20,
     "metadata": {},
     "output_type": "execute_result"
    }
   ],
   "source": [
    "# del\n",
    "d = {'name':'tarun', 'age': 32, 'gender':'male', 'weight':69, 'college':'IIEST'}\n",
    "del d['name']\n",
    "d"
   ]
  },
  {
   "cell_type": "code",
   "execution_count": 21,
   "id": "c86cea74",
   "metadata": {},
   "outputs": [
    {
     "data": {
      "text/plain": [
       "{}"
      ]
     },
     "execution_count": 21,
     "metadata": {},
     "output_type": "execute_result"
    }
   ],
   "source": [
    "# clear\n",
    "d = {'name':'tarun', 'age': 32, 'gender':'male', 'weight':69, 'college':'IIEST'}\n",
    "d.clear()\n",
    "d"
   ]
  },
  {
   "cell_type": "code",
   "execution_count": 22,
   "id": "94f92a1c",
   "metadata": {},
   "outputs": [
    {
     "data": {
      "text/plain": [
       "{'name': 'tarun',\n",
       " 'college': 'IISc',\n",
       " 'Sem': 4,\n",
       " 'Subjects': {'python': 50, 'SQL': 48, 'dsa': 35}}"
      ]
     },
     "execution_count": 22,
     "metadata": {},
     "output_type": "execute_result"
    }
   ],
   "source": [
    "del s['Subjects']['statistics']\n",
    "s"
   ]
  },
  {
   "cell_type": "markdown",
   "id": "c1315158",
   "metadata": {},
   "source": [
    "#### editing key-value pair"
   ]
  },
  {
   "cell_type": "code",
   "execution_count": 23,
   "id": "788a21a4",
   "metadata": {},
   "outputs": [
    {
     "data": {
      "text/plain": [
       "{'name': 'tarun',\n",
       " 'college': 'IISc',\n",
       " 'Sem': 4,\n",
       " 'Subjects': {'python': 50, 'SQL': 48, 'dsa': 80}}"
      ]
     },
     "execution_count": 23,
     "metadata": {},
     "output_type": "execute_result"
    }
   ],
   "source": [
    "s['Subjects']['dsa'] = 80\n",
    "s"
   ]
  },
  {
   "cell_type": "markdown",
   "id": "53efb8ae",
   "metadata": {},
   "source": [
    "#### dictionary operations"
   ]
  },
  {
   "cell_type": "code",
   "execution_count": 24,
   "id": "9c4f70eb",
   "metadata": {},
   "outputs": [
    {
     "name": "stdout",
     "output_type": "stream",
     "text": [
      "{'name': 'tarun', 'college': 'IISc', 'Sem': 4, 'Subjects': {'python': 50, 'SQL': 48, 'dsa': 80}}\n"
     ]
    }
   ],
   "source": [
    "# membership\n",
    "print(s)"
   ]
  },
  {
   "cell_type": "code",
   "execution_count": 25,
   "id": "21fd2f3f",
   "metadata": {},
   "outputs": [
    {
     "data": {
      "text/plain": [
       "True"
      ]
     },
     "execution_count": 25,
     "metadata": {},
     "output_type": "execute_result"
    }
   ],
   "source": [
    "'name' in s"
   ]
  },
  {
   "cell_type": "code",
   "execution_count": 26,
   "id": "f45fe797",
   "metadata": {},
   "outputs": [
    {
     "name": "stdout",
     "output_type": "stream",
     "text": [
      "name\n",
      "college\n",
      "Sem\n",
      "Subjects\n"
     ]
    }
   ],
   "source": [
    "# iteration\n",
    "for i in s:\n",
    "    print(i)"
   ]
  },
  {
   "cell_type": "code",
   "execution_count": 27,
   "id": "7add6a63",
   "metadata": {},
   "outputs": [
    {
     "data": {
      "text/plain": [
       "{'name': 'tarun',\n",
       " 'college': 'IISc',\n",
       " 'Sem': 4,\n",
       " 'Subjects': {'python': 50, 'SQL': 48, 'dsa': 80}}"
      ]
     },
     "execution_count": 27,
     "metadata": {},
     "output_type": "execute_result"
    }
   ],
   "source": [
    "s"
   ]
  },
  {
   "cell_type": "code",
   "execution_count": 28,
   "id": "c195de5d",
   "metadata": {},
   "outputs": [
    {
     "name": "stdout",
     "output_type": "stream",
     "text": [
      "name : tarun\n",
      "college : IISc\n",
      "Sem : 4\n",
      "Subjects : {'python': 50, 'SQL': 48, 'dsa': 80}\n"
     ]
    }
   ],
   "source": [
    "for i in s:\n",
    "    print(i,':', s[i])"
   ]
  },
  {
   "cell_type": "code",
   "execution_count": 29,
   "id": "76533e4c",
   "metadata": {},
   "outputs": [
    {
     "name": "stdout",
     "output_type": "stream",
     "text": [
      "name nitish\n",
      "gender male\n",
      "age 33\n"
     ]
    }
   ],
   "source": [
    "d = {'name':'nitish','gender':'male','age':33}\n",
    "for i in d:\n",
    "  print(i,d[i])"
   ]
  },
  {
   "cell_type": "markdown",
   "id": "a8a74ad3",
   "metadata": {},
   "source": [
    "#### dictionary functions"
   ]
  },
  {
   "cell_type": "code",
   "execution_count": 30,
   "id": "d9562127",
   "metadata": {},
   "outputs": [
    {
     "data": {
      "text/plain": [
       "{'name': 'nitish', 'gender': 'male', 'age': 33}"
      ]
     },
     "execution_count": 30,
     "metadata": {},
     "output_type": "execute_result"
    }
   ],
   "source": [
    "# len/sorted\n",
    "d"
   ]
  },
  {
   "cell_type": "code",
   "execution_count": 31,
   "id": "28038861",
   "metadata": {},
   "outputs": [
    {
     "data": {
      "text/plain": [
       "3"
      ]
     },
     "execution_count": 31,
     "metadata": {},
     "output_type": "execute_result"
    }
   ],
   "source": [
    "len(d)"
   ]
  },
  {
   "cell_type": "code",
   "execution_count": 32,
   "id": "d7c125b3",
   "metadata": {},
   "outputs": [
    {
     "data": {
      "text/plain": [
       "['name', 'gender', 'age']"
      ]
     },
     "execution_count": 32,
     "metadata": {},
     "output_type": "execute_result"
    }
   ],
   "source": [
    "sorted(d, reverse=True)"
   ]
  },
  {
   "cell_type": "code",
   "execution_count": 33,
   "id": "f8f54184",
   "metadata": {},
   "outputs": [
    {
     "data": {
      "text/plain": [
       "'name'"
      ]
     },
     "execution_count": 33,
     "metadata": {},
     "output_type": "execute_result"
    }
   ],
   "source": [
    "max(d)"
   ]
  },
  {
   "cell_type": "code",
   "execution_count": 34,
   "id": "f3f4ad9c",
   "metadata": {},
   "outputs": [
    {
     "data": {
      "text/plain": [
       "{'name': 'nitish', 'gender': 'male', 'age': 33}"
      ]
     },
     "execution_count": 34,
     "metadata": {},
     "output_type": "execute_result"
    }
   ],
   "source": [
    "# items/keys/values\n",
    "d"
   ]
  },
  {
   "cell_type": "code",
   "execution_count": 35,
   "id": "7e7209ac",
   "metadata": {},
   "outputs": [
    {
     "data": {
      "text/plain": [
       "dict_items([('name', 'nitish'), ('gender', 'male'), ('age', 33)])"
      ]
     },
     "execution_count": 35,
     "metadata": {},
     "output_type": "execute_result"
    }
   ],
   "source": [
    "d.items()"
   ]
  },
  {
   "cell_type": "code",
   "execution_count": 36,
   "id": "4330d126",
   "metadata": {},
   "outputs": [
    {
     "data": {
      "text/plain": [
       "dict_keys(['name', 'gender', 'age'])"
      ]
     },
     "execution_count": 36,
     "metadata": {},
     "output_type": "execute_result"
    }
   ],
   "source": [
    "d.keys()"
   ]
  },
  {
   "cell_type": "code",
   "execution_count": 37,
   "id": "d9218364",
   "metadata": {},
   "outputs": [
    {
     "data": {
      "text/plain": [
       "dict_values(['nitish', 'male', 33])"
      ]
     },
     "execution_count": 37,
     "metadata": {},
     "output_type": "execute_result"
    }
   ],
   "source": [
    "d.values()"
   ]
  },
  {
   "cell_type": "code",
   "execution_count": 38,
   "id": "d4bbecfa",
   "metadata": {},
   "outputs": [
    {
     "name": "stdout",
     "output_type": "stream",
     "text": [
      "{1: 2, 3: 4, 4: 7, 6: 8}\n"
     ]
    }
   ],
   "source": [
    "# update\n",
    "d1 = {1:2,3:4,4:5}\n",
    "d2 = {4:7,6:8}\n",
    "\n",
    "d1.update(d2)\n",
    "print(d1)"
   ]
  },
  {
   "cell_type": "markdown",
   "id": "55410773",
   "metadata": {},
   "source": [
    "#### dictionary comprehension"
   ]
  },
  {
   "cell_type": "code",
   "execution_count": 39,
   "id": "6dd1c234",
   "metadata": {},
   "outputs": [
    {
     "data": {
      "text/plain": [
       "{1: 1, 2: 4, 3: 9, 4: 16, 5: 25, 6: 36, 7: 49, 8: 64, 9: 81, 10: 100}"
      ]
     },
     "execution_count": 39,
     "metadata": {},
     "output_type": "execute_result"
    }
   ],
   "source": [
    "# print 1st 10 numbers and their squares\n",
    "{i:i**2 for i in range(1,11)}"
   ]
  },
  {
   "cell_type": "code",
   "execution_count": 40,
   "id": "33181ee0",
   "metadata": {},
   "outputs": [
    {
     "name": "stdout",
     "output_type": "stream",
     "text": [
      "dict_items([('delhi', 1000), ('mumbai', 2000), ('bengaluru', 3000)])\n"
     ]
    }
   ],
   "source": [
    "distances = {'delhi':1000, 'mumbai':2000, 'bengaluru':3000}\n",
    "print(distances.items())"
   ]
  },
  {
   "cell_type": "code",
   "execution_count": 41,
   "id": "9431fa0d",
   "metadata": {},
   "outputs": [
    {
     "data": {
      "text/plain": [
       "{'delhi': 620.0, 'mumbai': 1240.0, 'bengaluru': 1860.0}"
      ]
     },
     "execution_count": 41,
     "metadata": {},
     "output_type": "execute_result"
    }
   ],
   "source": [
    "{key:value*0.62 for (key, value) in distances.items()}"
   ]
  },
  {
   "cell_type": "code",
   "execution_count": 42,
   "id": "71015a50",
   "metadata": {},
   "outputs": [
    {
     "data": {
      "text/plain": [
       "{'Sunday': 30.5,\n",
       " 'Monday': 32.6,\n",
       " 'Tuesday': 31.8,\n",
       " 'Wednesday': 33.4,\n",
       " 'Thursday': 29.8,\n",
       " 'Friday': 30.2,\n",
       " 'Saturday': 29.9}"
      ]
     },
     "execution_count": 42,
     "metadata": {},
     "output_type": "execute_result"
    }
   ],
   "source": [
    "# using zip\n",
    "days = [\"Sunday\", \"Monday\",\"Tuesday\",\"Wednesday\",\"Thursday\",\"Friday\",\"Saturday\"]\n",
    "temp_C = [30.5,32.6,31.8,33.4,29.8,30.2,29.9]\n",
    "\n",
    "{i:j for(i,j) in zip(days, temp_C)}"
   ]
  },
  {
   "cell_type": "code",
   "execution_count": 43,
   "id": "0f68cba6",
   "metadata": {},
   "outputs": [
    {
     "data": {
      "text/plain": [
       "{'phone': 10, 'charger': 32}"
      ]
     },
     "execution_count": 43,
     "metadata": {},
     "output_type": "execute_result"
    }
   ],
   "source": [
    "# using if condition\n",
    "products = {'phone':10,'laptop':0,'charger':32,'tablet':0}\n",
    "{key:value for(key,value) in products.items() if value>0}"
   ]
  },
  {
   "cell_type": "code",
   "execution_count": 44,
   "id": "aa30cc20",
   "metadata": {},
   "outputs": [
    {
     "data": {
      "text/plain": [
       "{2: {1: 2, 2: 4, 3: 6, 4: 8, 5: 10, 6: 12, 7: 14, 8: 16, 9: 18, 10: 20},\n",
       " 3: {1: 3, 2: 6, 3: 9, 4: 12, 5: 15, 6: 18, 7: 21, 8: 24, 9: 27, 10: 30},\n",
       " 4: {1: 4, 2: 8, 3: 12, 4: 16, 5: 20, 6: 24, 7: 28, 8: 32, 9: 36, 10: 40}}"
      ]
     },
     "execution_count": 44,
     "metadata": {},
     "output_type": "execute_result"
    }
   ],
   "source": [
    "# nested comprehension\n",
    "# print tables from 2 to 4\n",
    "{i:{j:i*j for j in range(1,11)} for i in range(2,5)}"
   ]
  },
  {
   "cell_type": "code",
   "execution_count": null,
   "id": "7c13cde7",
   "metadata": {},
   "outputs": [],
   "source": []
  }
 ],
 "metadata": {
  "kernelspec": {
   "display_name": "venv",
   "language": "python",
   "name": "python3"
  },
  "language_info": {
   "codemirror_mode": {
    "name": "ipython",
    "version": 3
   },
   "file_extension": ".py",
   "mimetype": "text/x-python",
   "name": "python",
   "nbconvert_exporter": "python",
   "pygments_lexer": "ipython3",
   "version": "3.12.7"
  }
 },
 "nbformat": 4,
 "nbformat_minor": 5
}
