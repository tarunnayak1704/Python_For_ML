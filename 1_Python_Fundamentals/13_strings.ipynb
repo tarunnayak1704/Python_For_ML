{
 "cells": [
  {
   "cell_type": "markdown",
   "id": "ef224e03",
   "metadata": {},
   "source": [
    "### Strings\n",
    "- sequence of unicode characters\n",
    "- https://docs.python.org/3/howto/unicode.html"
   ]
  },
  {
   "cell_type": "code",
   "execution_count": 1,
   "id": "3279c91d",
   "metadata": {},
   "outputs": [
    {
     "name": "stdout",
     "output_type": "stream",
     "text": [
      "Cycling\n"
     ]
    }
   ],
   "source": [
    "# create strings\n",
    "s = 'Cycling'\n",
    "print(s)"
   ]
  },
  {
   "cell_type": "code",
   "execution_count": 2,
   "id": "2db045fe",
   "metadata": {},
   "outputs": [
    {
     "name": "stdout",
     "output_type": "stream",
     "text": [
      "hi\n"
     ]
    }
   ],
   "source": [
    "s = str('hi')\n",
    "print(s)"
   ]
  },
  {
   "cell_type": "code",
   "execution_count": 3,
   "id": "5b2835df",
   "metadata": {},
   "outputs": [
    {
     "name": "stdout",
     "output_type": "stream",
     "text": [
      "h\n"
     ]
    }
   ],
   "source": [
    "# accessing strings\n",
    "# indexing\n",
    "\n",
    "s = 'hello'\n",
    "print(s[0])"
   ]
  },
  {
   "cell_type": "code",
   "execution_count": 4,
   "id": "44769cac",
   "metadata": {},
   "outputs": [
    {
     "ename": "IndexError",
     "evalue": "string index out of range",
     "output_type": "error",
     "traceback": [
      "\u001b[0;31m---------------------------------------------------------------------------\u001b[0m",
      "\u001b[0;31mIndexError\u001b[0m                                Traceback (most recent call last)",
      "Cell \u001b[0;32mIn[4], line 2\u001b[0m\n\u001b[1;32m      1\u001b[0m s \u001b[38;5;241m=\u001b[39m \u001b[38;5;124m'\u001b[39m\u001b[38;5;124mhello\u001b[39m\u001b[38;5;124m'\u001b[39m\n\u001b[0;32m----> 2\u001b[0m \u001b[38;5;28mprint\u001b[39m(s[\u001b[38;5;241m5\u001b[39m])\n",
      "\u001b[0;31mIndexError\u001b[0m: string index out of range"
     ]
    }
   ],
   "source": [
    "s = 'hello'\n",
    "print(s[5])"
   ]
  },
  {
   "cell_type": "code",
   "execution_count": 5,
   "id": "70c04904",
   "metadata": {},
   "outputs": [
    {
     "name": "stdout",
     "output_type": "stream",
     "text": [
      "o\n"
     ]
    }
   ],
   "source": [
    "# negative indexing\n",
    "print(s[-1])"
   ]
  },
  {
   "cell_type": "code",
   "execution_count": 7,
   "id": "6f19e67d",
   "metadata": {},
   "outputs": [
    {
     "name": "stdout",
     "output_type": "stream",
     "text": [
      "hell\n"
     ]
    }
   ],
   "source": [
    "# slicing\n",
    "print(s[0:4])"
   ]
  },
  {
   "cell_type": "code",
   "execution_count": 8,
   "id": "1778a6ab",
   "metadata": {},
   "outputs": [
    {
     "name": "stdout",
     "output_type": "stream",
     "text": [
      "hlow\n"
     ]
    }
   ],
   "source": [
    "s = 'hello world'\n",
    "print(s[0:7:2])"
   ]
  },
  {
   "cell_type": "code",
   "execution_count": 9,
   "id": "5faf3000",
   "metadata": {},
   "outputs": [
    {
     "name": "stdout",
     "output_type": "stream",
     "text": [
      "dlrow olleh\n"
     ]
    }
   ],
   "source": [
    "print(s[::-1])"
   ]
  },
  {
   "cell_type": "code",
   "execution_count": 10,
   "id": "3cfbbd7a",
   "metadata": {},
   "outputs": [
    {
     "name": "stdout",
     "output_type": "stream",
     "text": [
      "dlrow\n"
     ]
    }
   ],
   "source": [
    "print(s[-1:-6:-1])"
   ]
  },
  {
   "cell_type": "code",
   "execution_count": 11,
   "id": "dd2cbb54",
   "metadata": {},
   "outputs": [
    {
     "ename": "TypeError",
     "evalue": "'str' object does not support item assignment",
     "output_type": "error",
     "traceback": [
      "\u001b[0;31m---------------------------------------------------------------------------\u001b[0m",
      "\u001b[0;31mTypeError\u001b[0m                                 Traceback (most recent call last)",
      "Cell \u001b[0;32mIn[11], line 3\u001b[0m\n\u001b[1;32m      1\u001b[0m \u001b[38;5;66;03m# editing\u001b[39;00m\n\u001b[1;32m      2\u001b[0m s \u001b[38;5;241m=\u001b[39m \u001b[38;5;124m'\u001b[39m\u001b[38;5;124mhello world\u001b[39m\u001b[38;5;124m'\u001b[39m\n\u001b[0;32m----> 3\u001b[0m s[\u001b[38;5;241m0\u001b[39m] \u001b[38;5;241m=\u001b[39m \u001b[38;5;124m'\u001b[39m\u001b[38;5;124mH\u001b[39m\u001b[38;5;124m'\u001b[39m\n\u001b[1;32m      4\u001b[0m \u001b[38;5;28mprint\u001b[39m(s)\n",
      "\u001b[0;31mTypeError\u001b[0m: 'str' object does not support item assignment"
     ]
    }
   ],
   "source": [
    "# editing\n",
    "s = 'hello world'\n",
    "s[0] = 'H'\n",
    "print(s)"
   ]
  },
  {
   "cell_type": "code",
   "execution_count": 13,
   "id": "542199f4",
   "metadata": {},
   "outputs": [],
   "source": [
    "# python strings are immutable "
   ]
  },
  {
   "cell_type": "code",
   "execution_count": 14,
   "id": "04a5ad03",
   "metadata": {},
   "outputs": [
    {
     "ename": "NameError",
     "evalue": "name 's' is not defined",
     "output_type": "error",
     "traceback": [
      "\u001b[0;31m---------------------------------------------------------------------------\u001b[0m",
      "\u001b[0;31mNameError\u001b[0m                                 Traceback (most recent call last)",
      "Cell \u001b[0;32mIn[14], line 4\u001b[0m\n\u001b[1;32m      2\u001b[0m s \u001b[38;5;241m=\u001b[39m \u001b[38;5;124m'\u001b[39m\u001b[38;5;124mhello world\u001b[39m\u001b[38;5;124m'\u001b[39m\n\u001b[1;32m      3\u001b[0m \u001b[38;5;28;01mdel\u001b[39;00m s\n\u001b[0;32m----> 4\u001b[0m \u001b[38;5;28mprint\u001b[39m(s)\n",
      "\u001b[0;31mNameError\u001b[0m: name 's' is not defined"
     ]
    }
   ],
   "source": [
    "# delete a string\n",
    "s = 'hello world'\n",
    "del s\n",
    "print(s)"
   ]
  },
  {
   "cell_type": "markdown",
   "id": "cfb0e497",
   "metadata": {},
   "source": [
    "#### Operations on strings"
   ]
  },
  {
   "cell_type": "code",
   "execution_count": 16,
   "id": "648dc1a4",
   "metadata": {},
   "outputs": [
    {
     "name": "stdout",
     "output_type": "stream",
     "text": [
      "hello world\n"
     ]
    }
   ],
   "source": [
    "# arithmetic operations\n",
    "print('hello' + ' ' + 'world')      # concatenation"
   ]
  },
  {
   "cell_type": "code",
   "execution_count": 17,
   "id": "eee3cb12",
   "metadata": {},
   "outputs": [
    {
     "name": "stdout",
     "output_type": "stream",
     "text": [
      "hihihihihi\n"
     ]
    }
   ],
   "source": [
    "print('hi'*5)"
   ]
  },
  {
   "cell_type": "code",
   "execution_count": 18,
   "id": "19237439",
   "metadata": {},
   "outputs": [
    {
     "name": "stdout",
     "output_type": "stream",
     "text": [
      "**************************************************\n"
     ]
    }
   ],
   "source": [
    "print('*'*50)"
   ]
  },
  {
   "cell_type": "code",
   "execution_count": 20,
   "id": "21608d59",
   "metadata": {},
   "outputs": [
    {
     "data": {
      "text/plain": [
       "True"
      ]
     },
     "execution_count": 20,
     "metadata": {},
     "output_type": "execute_result"
    }
   ],
   "source": [
    "# relational operations\n",
    "'mumbai' != 'delhi'"
   ]
  },
  {
   "cell_type": "code",
   "execution_count": 21,
   "id": "cd895785",
   "metadata": {},
   "outputs": [
    {
     "data": {
      "text/plain": [
       "False"
      ]
     },
     "execution_count": 21,
     "metadata": {},
     "output_type": "execute_result"
    }
   ],
   "source": [
    "'a' > 'b'\n",
    "# lexiographically\n",
    "# they follow unicode values (ASCII)"
   ]
  },
  {
   "cell_type": "code",
   "execution_count": 22,
   "id": "0ab94a63",
   "metadata": {},
   "outputs": [
    {
     "data": {
      "text/plain": [
       "True"
      ]
     },
     "execution_count": 22,
     "metadata": {},
     "output_type": "execute_result"
    }
   ],
   "source": [
    "'ab'>'aa'"
   ]
  },
  {
   "cell_type": "code",
   "execution_count": 25,
   "id": "f4a9fc34",
   "metadata": {},
   "outputs": [
    {
     "name": "stdout",
     "output_type": "stream",
     "text": [
      "bye\n",
      "hi\n",
      "\n",
      "bye\n",
      "False\n"
     ]
    }
   ],
   "source": [
    "# logical operations\n",
    "print('hi' and 'bye')\n",
    "print('hi' or 'bye')\n",
    "print('' and 'bye')\n",
    "print('' or 'bye')\n",
    "print(not 'hello')"
   ]
  },
  {
   "cell_type": "code",
   "execution_count": 26,
   "id": "e329eff0",
   "metadata": {},
   "outputs": [
    {
     "name": "stdout",
     "output_type": "stream",
     "text": [
      "t\n",
      "r\n",
      "a\n",
      "i\n",
      "n\n"
     ]
    }
   ],
   "source": [
    "# loops in string\n",
    "for i in 'train':\n",
    "    print(i)"
   ]
  },
  {
   "cell_type": "code",
   "execution_count": 27,
   "id": "6cfd8868",
   "metadata": {},
   "outputs": [
    {
     "data": {
      "text/plain": [
       "True"
      ]
     },
     "execution_count": 27,
     "metadata": {},
     "output_type": "execute_result"
    }
   ],
   "source": [
    "# membership operator\n",
    "'a' in 'apple'"
   ]
  },
  {
   "cell_type": "markdown",
   "id": "64eb64c2",
   "metadata": {},
   "source": [
    "#### common functions (also applicable for strings)"
   ]
  },
  {
   "cell_type": "code",
   "execution_count": 28,
   "id": "7d31ffe1",
   "metadata": {},
   "outputs": [
    {
     "data": {
      "text/plain": [
       "6"
      ]
     },
     "execution_count": 28,
     "metadata": {},
     "output_type": "execute_result"
    }
   ],
   "source": [
    "len('trains')"
   ]
  },
  {
   "cell_type": "code",
   "execution_count": 29,
   "id": "cd44b11c",
   "metadata": {},
   "outputs": [
    {
     "data": {
      "text/plain": [
       "'z'"
      ]
     },
     "execution_count": 29,
     "metadata": {},
     "output_type": "execute_result"
    }
   ],
   "source": [
    "max('abczA')"
   ]
  },
  {
   "cell_type": "code",
   "execution_count": 30,
   "id": "3d684162",
   "metadata": {},
   "outputs": [
    {
     "data": {
      "text/plain": [
       "'A'"
      ]
     },
     "execution_count": 30,
     "metadata": {},
     "output_type": "execute_result"
    }
   ],
   "source": [
    "min('abczA')"
   ]
  },
  {
   "cell_type": "code",
   "execution_count": 33,
   "id": "644d0b23",
   "metadata": {},
   "outputs": [
    {
     "data": {
      "text/plain": [
       "['d', 'c', 'b', 'a', 'A']"
      ]
     },
     "execution_count": 33,
     "metadata": {},
     "output_type": "execute_result"
    }
   ],
   "source": [
    "sorted('abcdA', reverse=True)"
   ]
  },
  {
   "cell_type": "markdown",
   "id": "88ba2a86",
   "metadata": {},
   "source": [
    "#### functions specific to strings"
   ]
  },
  {
   "cell_type": "code",
   "execution_count": 34,
   "id": "e43ad55d",
   "metadata": {},
   "outputs": [
    {
     "name": "stdout",
     "output_type": "stream",
     "text": [
      "Hello world\n",
      "hello world\n"
     ]
    }
   ],
   "source": [
    "# capitalize\n",
    "s = 'hello world'\n",
    "print(s.capitalize())\n",
    "print(s)"
   ]
  },
  {
   "cell_type": "code",
   "execution_count": 35,
   "id": "a7b95309",
   "metadata": {},
   "outputs": [
    {
     "name": "stdout",
     "output_type": "stream",
     "text": [
      "Hello World\n"
     ]
    }
   ],
   "source": [
    "# title\n",
    "print(s.title())"
   ]
  },
  {
   "cell_type": "code",
   "execution_count": 36,
   "id": "026c6966",
   "metadata": {},
   "outputs": [
    {
     "name": "stdout",
     "output_type": "stream",
     "text": [
      "HELLO WORLD\n"
     ]
    }
   ],
   "source": [
    "# upper\n",
    "print(s.upper())"
   ]
  },
  {
   "cell_type": "code",
   "execution_count": 37,
   "id": "fdb05b3c",
   "metadata": {},
   "outputs": [
    {
     "name": "stdout",
     "output_type": "stream",
     "text": [
      "hello world\n"
     ]
    }
   ],
   "source": [
    "# lower\n",
    "print(s.lower())"
   ]
  },
  {
   "cell_type": "code",
   "execution_count": 38,
   "id": "62b46d7c",
   "metadata": {},
   "outputs": [
    {
     "data": {
      "text/plain": [
       "'hI pYTHON'"
      ]
     },
     "execution_count": 38,
     "metadata": {},
     "output_type": "execute_result"
    }
   ],
   "source": [
    "'Hi Python'.swapcase()"
   ]
  },
  {
   "cell_type": "code",
   "execution_count": 39,
   "id": "de6fe6a0",
   "metadata": {},
   "outputs": [
    {
     "data": {
      "text/plain": [
       "2"
      ]
     },
     "execution_count": 39,
     "metadata": {},
     "output_type": "execute_result"
    }
   ],
   "source": [
    "# count\n",
    "'aa b c dd'.count('d')"
   ]
  },
  {
   "cell_type": "code",
   "execution_count": 40,
   "id": "8b173dbc",
   "metadata": {},
   "outputs": [
    {
     "data": {
      "text/plain": [
       "4"
      ]
     },
     "execution_count": 40,
     "metadata": {},
     "output_type": "execute_result"
    }
   ],
   "source": [
    "# find\n",
    "'hiabc'.find('c')"
   ]
  },
  {
   "cell_type": "code",
   "execution_count": 41,
   "id": "96922325",
   "metadata": {},
   "outputs": [
    {
     "data": {
      "text/plain": [
       "1"
      ]
     },
     "execution_count": 41,
     "metadata": {},
     "output_type": "execute_result"
    }
   ],
   "source": [
    "# index\n",
    "'hi'.index('i')"
   ]
  },
  {
   "cell_type": "code",
   "execution_count": 42,
   "id": "4af84d33",
   "metadata": {},
   "outputs": [
    {
     "data": {
      "text/plain": [
       "4"
      ]
     },
     "execution_count": 42,
     "metadata": {},
     "output_type": "execute_result"
    }
   ],
   "source": [
    "# find\n",
    "'hiabc'.index('c')"
   ]
  },
  {
   "cell_type": "code",
   "execution_count": 43,
   "id": "6cd62b4d",
   "metadata": {},
   "outputs": [
    {
     "data": {
      "text/plain": [
       "True"
      ]
     },
     "execution_count": 43,
     "metadata": {},
     "output_type": "execute_result"
    }
   ],
   "source": [
    "# endswith\n",
    "'hello there'.endswith('there')"
   ]
  },
  {
   "cell_type": "code",
   "execution_count": 44,
   "id": "c308dce0",
   "metadata": {},
   "outputs": [
    {
     "data": {
      "text/plain": [
       "True"
      ]
     },
     "execution_count": 44,
     "metadata": {},
     "output_type": "execute_result"
    }
   ],
   "source": [
    "# startswith\n",
    "'hello there'.startswith('hell')"
   ]
  },
  {
   "cell_type": "code",
   "execution_count": 47,
   "id": "ed46e001",
   "metadata": {},
   "outputs": [
    {
     "name": "stdout",
     "output_type": "stream",
     "text": [
      "Hi my name is Tarun and i am male.\n"
     ]
    }
   ],
   "source": [
    "# format\n",
    "name = 'Tarun'\n",
    "gender = 'male'\n",
    "print('Hi my name is {0} and i am {1}.'.format(name, gender))"
   ]
  },
  {
   "cell_type": "code",
   "execution_count": 48,
   "id": "d6d2a505",
   "metadata": {},
   "outputs": [
    {
     "data": {
      "text/plain": [
       "True"
      ]
     },
     "execution_count": 48,
     "metadata": {},
     "output_type": "execute_result"
    }
   ],
   "source": [
    "# isalnum\n",
    "'hello1'.isalnum()"
   ]
  },
  {
   "cell_type": "code",
   "execution_count": 49,
   "id": "c0ef7442",
   "metadata": {},
   "outputs": [
    {
     "data": {
      "text/plain": [
       "False"
      ]
     },
     "execution_count": 49,
     "metadata": {},
     "output_type": "execute_result"
    }
   ],
   "source": [
    "'hello1@'.isalnum()"
   ]
  },
  {
   "cell_type": "code",
   "execution_count": 50,
   "id": "b7409603",
   "metadata": {},
   "outputs": [
    {
     "data": {
      "text/plain": [
       "True"
      ]
     },
     "execution_count": 50,
     "metadata": {},
     "output_type": "execute_result"
    }
   ],
   "source": [
    "# isalpha\n",
    "'TARUN'.isalpha()"
   ]
  },
  {
   "cell_type": "code",
   "execution_count": 51,
   "id": "abb2c2de",
   "metadata": {},
   "outputs": [
    {
     "data": {
      "text/plain": [
       "True"
      ]
     },
     "execution_count": 51,
     "metadata": {},
     "output_type": "execute_result"
    }
   ],
   "source": [
    "# isdigit\n",
    "'123'.isdigit()"
   ]
  },
  {
   "cell_type": "code",
   "execution_count": 53,
   "id": "cd9fb5fa",
   "metadata": {},
   "outputs": [
    {
     "data": {
      "text/plain": [
       "True"
      ]
     },
     "execution_count": 53,
     "metadata": {},
     "output_type": "execute_result"
    }
   ],
   "source": [
    "'_hi'.isidentifier()    # is it a valid identifier"
   ]
  },
  {
   "cell_type": "code",
   "execution_count": 54,
   "id": "856df38c",
   "metadata": {},
   "outputs": [
    {
     "data": {
      "text/plain": [
       "['hello', 'world']"
      ]
     },
     "execution_count": 54,
     "metadata": {},
     "output_type": "execute_result"
    }
   ],
   "source": [
    "# split \n",
    "'hello world'.split()"
   ]
  },
  {
   "cell_type": "code",
   "execution_count": 55,
   "id": "3bc22550",
   "metadata": {},
   "outputs": [
    {
     "data": {
      "text/plain": [
       "'hello world'"
      ]
     },
     "execution_count": 55,
     "metadata": {},
     "output_type": "execute_result"
    }
   ],
   "source": [
    "# join\n",
    "' '.join(['hello', 'world'])"
   ]
  },
  {
   "cell_type": "code",
   "execution_count": 56,
   "id": "d84ff537",
   "metadata": {},
   "outputs": [
    {
     "data": {
      "text/plain": [
       "'hello earth'"
      ]
     },
     "execution_count": 56,
     "metadata": {},
     "output_type": "execute_result"
    }
   ],
   "source": [
    "# replace\n",
    "'hello world'.replace('world', 'earth')"
   ]
  },
  {
   "cell_type": "code",
   "execution_count": 57,
   "id": "748b89e9",
   "metadata": {},
   "outputs": [
    {
     "data": {
      "text/plain": [
       "'elephant'"
      ]
     },
     "execution_count": 57,
     "metadata": {},
     "output_type": "execute_result"
    }
   ],
   "source": [
    "# strip\n",
    "'elephant    '.strip()"
   ]
  },
  {
   "cell_type": "markdown",
   "id": "a3dd3c50",
   "metadata": {},
   "source": [
    "#### Examples"
   ]
  },
  {
   "cell_type": "code",
   "execution_count": 58,
   "id": "b63b35c9",
   "metadata": {},
   "outputs": [
    {
     "name": "stdout",
     "output_type": "stream",
     "text": [
      "11\n"
     ]
    }
   ],
   "source": [
    "# find length of string\n",
    "s = 'hello world'\n",
    "count = 0\n",
    "for i in s:\n",
    "    count += 1\n",
    "print(count)"
   ]
  },
  {
   "cell_type": "code",
   "execution_count": 59,
   "id": "80ec3ffd",
   "metadata": {},
   "outputs": [
    {
     "name": "stdout",
     "output_type": "stream",
     "text": [
      "tarunn100\n"
     ]
    }
   ],
   "source": [
    "# extract username\n",
    "s = 'tarunn100@gmail.com'\n",
    "pos = s.index('@')\n",
    "print(s[:pos])"
   ]
  },
  {
   "cell_type": "code",
   "execution_count": 60,
   "id": "38fe1874",
   "metadata": {},
   "outputs": [
    {
     "name": "stdout",
     "output_type": "stream",
     "text": [
      "2\n"
     ]
    }
   ],
   "source": [
    "# frequency of a particular character\n",
    "s = 'hi how are you?'\n",
    "c = input('enter a character:')\n",
    "count = 0\n",
    "for i in s:\n",
    "    if i == c:\n",
    "        count += 1\n",
    "print(count)"
   ]
  },
  {
   "cell_type": "code",
   "execution_count": 61,
   "id": "84a4302f",
   "metadata": {},
   "outputs": [
    {
     "name": "stdout",
     "output_type": "stream",
     "text": [
      "ello ow are you?\n"
     ]
    }
   ],
   "source": [
    "# remove particular character from a string\n",
    "s = 'hello how are you?'\n",
    "term = input('what input you want to remove?')\n",
    "\n",
    "result = ''\n",
    "\n",
    "for i in s:\n",
    "    if i == term:\n",
    "        continue\n",
    "    else:\n",
    "        result = result + i\n",
    "print(result)"
   ]
  },
  {
   "cell_type": "code",
   "execution_count": 62,
   "id": "09cb0c42",
   "metadata": {},
   "outputs": [
    {
     "name": "stdout",
     "output_type": "stream",
     "text": [
      "yes\n"
     ]
    }
   ],
   "source": [
    "# palindrome check\n",
    "s = input('enter a string:')\n",
    "flag = True\n",
    "n = len(s)\n",
    "for i in range(0, n//2):\n",
    "    if s[i] != s[n-i-1]:\n",
    "        flag = False\n",
    "        print('no')\n",
    "        break\n",
    "if flag:\n",
    "    print('yes')"
   ]
  },
  {
   "cell_type": "code",
   "execution_count": 63,
   "id": "76093319",
   "metadata": {},
   "outputs": [
    {
     "name": "stdout",
     "output_type": "stream",
     "text": [
      "['hello', 'how', 'are', 'you']\n",
      "4\n"
     ]
    }
   ],
   "source": [
    "# Write a program to count the number of words in a string without split()\n",
    "\n",
    "s = input('enter the string')\n",
    "L = []\n",
    "temp = ''\n",
    "for i in s:\n",
    "\n",
    "  if i != ' ':\n",
    "    temp = temp + i\n",
    "  else:\n",
    "    L.append(temp)\n",
    "    temp = ''\n",
    "\n",
    "L.append(temp)\n",
    "print(L)\n",
    "print(len(L))"
   ]
  },
  {
   "cell_type": "code",
   "execution_count": 64,
   "id": "dddbae40",
   "metadata": {},
   "outputs": [
    {
     "name": "stdout",
     "output_type": "stream",
     "text": [
      "Bear Grylls\n"
     ]
    }
   ],
   "source": [
    "# Write a python program to convert a string to title case without using the title()\n",
    "s = input('enter the string')\n",
    "\n",
    "L = []\n",
    "for i in s.split():\n",
    "  L.append(i[0].upper() + i[1:].lower())\n",
    "\n",
    "print(\" \".join(L))"
   ]
  },
  {
   "cell_type": "code",
   "execution_count": 65,
   "id": "b7e2ceb2",
   "metadata": {},
   "outputs": [
    {
     "name": "stdout",
     "output_type": "stream",
     "text": [
      "123\n",
      "<class 'str'>\n"
     ]
    }
   ],
   "source": [
    "# converts integer to a string\n",
    "n = int(input('enter the number:'))\n",
    "\n",
    "digits = '0123456789'\n",
    "result = ''\n",
    "\n",
    "while n != 0:\n",
    "    result = digits[n%10] + result\n",
    "    n = n//10\n",
    "\n",
    "print(result)\n",
    "print(type(result))"
   ]
  },
  {
   "cell_type": "code",
   "execution_count": null,
   "id": "bca84cd0",
   "metadata": {},
   "outputs": [],
   "source": []
  }
 ],
 "metadata": {
  "kernelspec": {
   "display_name": "base",
   "language": "python",
   "name": "python3"
  },
  "language_info": {
   "codemirror_mode": {
    "name": "ipython",
    "version": 3
   },
   "file_extension": ".py",
   "mimetype": "text/x-python",
   "name": "python",
   "nbconvert_exporter": "python",
   "pygments_lexer": "ipython3",
   "version": "3.12.7"
  }
 },
 "nbformat": 4,
 "nbformat_minor": 5
}
