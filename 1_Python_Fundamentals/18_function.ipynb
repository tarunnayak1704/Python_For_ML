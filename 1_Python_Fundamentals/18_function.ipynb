{
 "cells": [
  {
   "cell_type": "code",
   "execution_count": 1,
   "id": "f894d4f9",
   "metadata": {},
   "outputs": [],
   "source": [
    "# ABSTRACTION\n",
    "# DECOMPOSITION"
   ]
  },
  {
   "cell_type": "code",
   "execution_count": 5,
   "id": "a02cc766",
   "metadata": {},
   "outputs": [],
   "source": [
    "def is_even(num):\n",
    "    \"\"\"\n",
    "    This function returns if a given number is even or odd \n",
    "    Input - any valid integer\n",
    "    Output - odd/even\n",
    "    created on - 07th March 2025\n",
    "    \"\"\"\n",
    "    if type(num) == int:\n",
    "        if num % 2 == 0:\n",
    "            return 'even'\n",
    "        else:\n",
    "            return 'odd'\n",
    "    else:\n",
    "        return 'please provide and integer'"
   ]
  },
  {
   "cell_type": "code",
   "execution_count": 6,
   "id": "6e66e351",
   "metadata": {},
   "outputs": [
    {
     "name": "stdout",
     "output_type": "stream",
     "text": [
      "odd\n",
      "even\n",
      "odd\n",
      "even\n",
      "odd\n",
      "even\n",
      "odd\n",
      "even\n",
      "odd\n",
      "even\n"
     ]
    }
   ],
   "source": [
    "for i in range(1, 11):\n",
    "    x = is_even(i)\n",
    "    print(x)"
   ]
  },
  {
   "cell_type": "code",
   "execution_count": 7,
   "id": "4d951d6b",
   "metadata": {},
   "outputs": [
    {
     "name": "stdout",
     "output_type": "stream",
     "text": [
      "\n",
      "    This function returns if a given number is even or odd \n",
      "    Input - any valid integer\n",
      "    Output - odd/even\n",
      "    created on - 07th March 2025\n",
      "    \n"
     ]
    }
   ],
   "source": [
    "print(is_even.__doc__)"
   ]
  },
  {
   "cell_type": "code",
   "execution_count": 8,
   "id": "847bf511",
   "metadata": {},
   "outputs": [
    {
     "data": {
      "text/plain": [
       "'please provide and integer'"
      ]
     },
     "execution_count": 8,
     "metadata": {},
     "output_type": "execute_result"
    }
   ],
   "source": [
    "is_even('hello')"
   ]
  },
  {
   "cell_type": "markdown",
   "id": "87883f36",
   "metadata": {},
   "source": [
    "#### Parameter vs Argument\n",
    "- def is_even(i): -> here i is parameter\n",
    "- is_even(x): -> calling the function x is an argument\n",
    "\n",
    "#### Types of Arguments\n",
    "- default argument\n",
    "- positional argument\n",
    "- keyword argument\n"
   ]
  },
  {
   "cell_type": "code",
   "execution_count": 9,
   "id": "77dbc712",
   "metadata": {},
   "outputs": [],
   "source": [
    "# default argument\n",
    "def power(a=1, b=1):\n",
    "    return a**b"
   ]
  },
  {
   "cell_type": "code",
   "execution_count": 10,
   "id": "ab99db92",
   "metadata": {},
   "outputs": [
    {
     "data": {
      "text/plain": [
       "1"
      ]
     },
     "execution_count": 10,
     "metadata": {},
     "output_type": "execute_result"
    }
   ],
   "source": [
    "power()"
   ]
  },
  {
   "cell_type": "code",
   "execution_count": 11,
   "id": "7b9d197f",
   "metadata": {},
   "outputs": [
    {
     "name": "stdout",
     "output_type": "stream",
     "text": [
      "8\n",
      "9\n"
     ]
    }
   ],
   "source": [
    "# positional argument\n",
    "print(power(2,3))\n",
    "print(power(3,2))"
   ]
  },
  {
   "cell_type": "code",
   "execution_count": 12,
   "id": "f92b6123",
   "metadata": {},
   "outputs": [
    {
     "name": "stdout",
     "output_type": "stream",
     "text": [
      "8\n",
      "8\n"
     ]
    }
   ],
   "source": [
    "# keyword argument\n",
    "print(power(a=2, b=3))\n",
    "print(power(b=3, a=2))"
   ]
  },
  {
   "cell_type": "code",
   "execution_count": null,
   "id": "261c1a96",
   "metadata": {},
   "outputs": [],
   "source": []
  }
 ],
 "metadata": {
  "kernelspec": {
   "display_name": "venv",
   "language": "python",
   "name": "python3"
  },
  "language_info": {
   "codemirror_mode": {
    "name": "ipython",
    "version": 3
   },
   "file_extension": ".py",
   "mimetype": "text/x-python",
   "name": "python",
   "nbconvert_exporter": "python",
   "pygments_lexer": "ipython3",
   "version": "3.12.7"
  }
 },
 "nbformat": 4,
 "nbformat_minor": 5
}
