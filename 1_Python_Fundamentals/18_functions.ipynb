{
 "cells": [
  {
   "cell_type": "markdown",
   "id": "705f393b",
   "metadata": {},
   "source": [
    "#### ABSTRACTION\n",
    "#### DECOMPOSITION"
   ]
  },
  {
   "cell_type": "code",
   "execution_count": 1,
   "id": "4c175ca4",
   "metadata": {},
   "outputs": [],
   "source": [
    "def is_even(num):\n",
    "    \"\"\"\n",
    "    This function return if a given number is even or odd \n",
    "    input - any valid integer\n",
    "    output - odd/even\n",
    "    created on - 07th March 2025\n",
    "    \"\"\"\n",
    "    if type(num) == int:\n",
    "        if num % 2 == 0:\n",
    "            return 'even'\n",
    "        else:\n",
    "            return 'odd'\n",
    "    else:\n",
    "        return 'please provide and integer'"
   ]
  },
  {
   "cell_type": "code",
   "execution_count": 2,
   "id": "6364d17b",
   "metadata": {},
   "outputs": [
    {
     "name": "stdout",
     "output_type": "stream",
     "text": [
      "odd\n",
      "even\n",
      "odd\n",
      "even\n",
      "odd\n",
      "even\n",
      "odd\n",
      "even\n",
      "odd\n",
      "even\n"
     ]
    }
   ],
   "source": [
    "for i in range(1, 11):\n",
    "    x = is_even(i)\n",
    "    print(x)"
   ]
  },
  {
   "cell_type": "code",
   "execution_count": 3,
   "id": "91370f51",
   "metadata": {},
   "outputs": [
    {
     "name": "stdout",
     "output_type": "stream",
     "text": [
      "\n",
      "    This function return if a given number is even or odd \n",
      "    input - any valid integer\n",
      "    output - odd/even\n",
      "    created on - 07th March 2025\n",
      "    \n"
     ]
    }
   ],
   "source": [
    "print(is_even.__doc__)"
   ]
  },
  {
   "cell_type": "code",
   "execution_count": 4,
   "id": "ed5138b8",
   "metadata": {},
   "outputs": [
    {
     "data": {
      "text/plain": [
       "'please provide and integer'"
      ]
     },
     "execution_count": 4,
     "metadata": {},
     "output_type": "execute_result"
    }
   ],
   "source": [
    "is_even('hello')"
   ]
  },
  {
   "cell_type": "markdown",
   "id": "0bb78443",
   "metadata": {},
   "source": [
    "#### Parameter vs Argument\n",
    "- def is_even(i): -> here i is parameter\n",
    "- is_even(x): -> calling the function x is an argument\n",
    "\n",
    "#### Types of Arguments\n",
    "- default argument\n",
    "- positional argument\n",
    "- keyword argument"
   ]
  },
  {
   "cell_type": "code",
   "execution_count": 5,
   "id": "dfb601f6",
   "metadata": {},
   "outputs": [],
   "source": [
    "# default argument\n",
    "def power(a=1, b=1):\n",
    "    return a**b"
   ]
  },
  {
   "cell_type": "code",
   "execution_count": 6,
   "id": "76f0ebdd",
   "metadata": {},
   "outputs": [
    {
     "data": {
      "text/plain": [
       "1"
      ]
     },
     "execution_count": 6,
     "metadata": {},
     "output_type": "execute_result"
    }
   ],
   "source": [
    "power()"
   ]
  },
  {
   "cell_type": "code",
   "execution_count": 7,
   "id": "f5b096d8",
   "metadata": {},
   "outputs": [
    {
     "name": "stdout",
     "output_type": "stream",
     "text": [
      "8\n",
      "9\n"
     ]
    }
   ],
   "source": [
    "# positional argument\n",
    "print(power(2,3))\n",
    "print(power(3,2))"
   ]
  },
  {
   "cell_type": "code",
   "execution_count": 8,
   "id": "f9772f0e",
   "metadata": {},
   "outputs": [
    {
     "name": "stdout",
     "output_type": "stream",
     "text": [
      "8\n",
      "8\n"
     ]
    }
   ],
   "source": [
    "# keyword argument\n",
    "print(power(a=2, b=3))\n",
    "print(power(b=3, a=2))"
   ]
  },
  {
   "cell_type": "markdown",
   "id": "cc111a0e",
   "metadata": {},
   "source": [
    "### *args and **kwargs\n",
    "*args and **kwargs are special python keywords that are used to pass the variable length of arguments to a function\n"
   ]
  },
  {
   "cell_type": "code",
   "execution_count": 9,
   "id": "7384a458",
   "metadata": {},
   "outputs": [],
   "source": [
    "# *args allows us to pass a variable number of non-keyword arguments to a functions\n",
    "def multiply(*args):\n",
    "    product = 1\n",
    "    for i in args:\n",
    "        product = product*i\n",
    "    print(args)\n",
    "    return product"
   ]
  },
  {
   "cell_type": "code",
   "execution_count": 10,
   "id": "5c165a7a",
   "metadata": {},
   "outputs": [
    {
     "name": "stdout",
     "output_type": "stream",
     "text": [
      "(1, 2, 3, 4, 5, 6)\n"
     ]
    },
    {
     "data": {
      "text/plain": [
       "720"
      ]
     },
     "execution_count": 10,
     "metadata": {},
     "output_type": "execute_result"
    }
   ],
   "source": [
    "multiply(1,2,3,4,5,6)"
   ]
  },
  {
   "cell_type": "code",
   "execution_count": 11,
   "id": "45efd833",
   "metadata": {},
   "outputs": [],
   "source": [
    "# **kwargs: allows us to pass any number of keyword arguments\n",
    "# keyword arguments mean that they contain a key-value pair, like python dictionary"
   ]
  },
  {
   "cell_type": "code",
   "execution_count": 12,
   "id": "6b57f689",
   "metadata": {},
   "outputs": [],
   "source": [
    "def display(**tarun):\n",
    "    for (key, value) in tarun.items():\n",
    "        print(key, '->', value)"
   ]
  },
  {
   "cell_type": "code",
   "execution_count": 13,
   "id": "6bfb8d93",
   "metadata": {},
   "outputs": [
    {
     "name": "stdout",
     "output_type": "stream",
     "text": [
      "india -> delhi\n",
      "america -> Washington DC\n"
     ]
    }
   ],
   "source": [
    "display(india = 'delhi', america = 'Washington DC')"
   ]
  },
  {
   "cell_type": "code",
   "execution_count": 14,
   "id": "1d1c93dc",
   "metadata": {},
   "outputs": [],
   "source": [
    "# order of arguments matter (normal -> *args, -> **kwargs)"
   ]
  },
  {
   "cell_type": "markdown",
   "id": "67481db2",
   "metadata": {},
   "source": [
    "### How functions are executed in memory?"
   ]
  },
  {
   "cell_type": "code",
   "execution_count": 15,
   "id": "871e18ed",
   "metadata": {},
   "outputs": [
    {
     "name": "stdout",
     "output_type": "stream",
     "text": [
      "odd\n",
      "None\n"
     ]
    }
   ],
   "source": [
    "# function without return statement will also return None\n",
    "def is_even(num):\n",
    "    \"\"\"\n",
    "    This function return if a given number is even or odd \n",
    "    input - any valid integer\n",
    "    output - odd/even\n",
    "    created on - 07th March 2025\n",
    "    \"\"\"\n",
    "    if type(num) == int:\n",
    "        if num % 2 == 0:\n",
    "            print('even')\n",
    "        else:\n",
    "            print('odd')\n",
    "    else:\n",
    "        print('please provide and integer')\n",
    "\n",
    "print(is_even(7))"
   ]
  },
  {
   "cell_type": "code",
   "execution_count": 16,
   "id": "7d46727e",
   "metadata": {},
   "outputs": [
    {
     "name": "stdout",
     "output_type": "stream",
     "text": [
      "None\n",
      "[1, 2, 3, 4]\n"
     ]
    }
   ],
   "source": [
    "L = [1,2,3]\n",
    "print(L.append(4))\n",
    "print(L)"
   ]
  },
  {
   "cell_type": "markdown",
   "id": "eeef7e8d",
   "metadata": {},
   "source": [
    "### Variable Scope"
   ]
  },
  {
   "cell_type": "code",
   "execution_count": 17,
   "id": "1c2704ca",
   "metadata": {},
   "outputs": [
    {
     "name": "stdout",
     "output_type": "stream",
     "text": [
      "5\n",
      "6\n",
      "5\n"
     ]
    }
   ],
   "source": [
    "def g(y):\n",
    "    print(x)\n",
    "    print(x+1)\n",
    "x = 5\n",
    "g(x)\n",
    "print(x)"
   ]
  },
  {
   "cell_type": "code",
   "execution_count": 18,
   "id": "11396d58",
   "metadata": {},
   "outputs": [
    {
     "name": "stdout",
     "output_type": "stream",
     "text": [
      "2\n",
      "5\n"
     ]
    }
   ],
   "source": [
    "def f(y):\n",
    "    x = 1\n",
    "    x += 1\n",
    "    print(x)\n",
    "x = 5\n",
    "f(x)\n",
    "print(x)"
   ]
  },
  {
   "cell_type": "code",
   "execution_count": 19,
   "id": "52dc81eb",
   "metadata": {},
   "outputs": [
    {
     "ename": "UnboundLocalError",
     "evalue": "cannot access local variable 'x' where it is not associated with a value",
     "output_type": "error",
     "traceback": [
      "\u001b[31m---------------------------------------------------------------------------\u001b[39m",
      "\u001b[31mUnboundLocalError\u001b[39m                         Traceback (most recent call last)",
      "\u001b[36mCell\u001b[39m\u001b[36m \u001b[39m\u001b[32mIn[19]\u001b[39m\u001b[32m, line 4\u001b[39m\n\u001b[32m      2\u001b[39m     x += \u001b[32m1\u001b[39m\n\u001b[32m      3\u001b[39m x = \u001b[32m5\u001b[39m\n\u001b[32m----> \u001b[39m\u001b[32m4\u001b[39m \u001b[43mh\u001b[49m\u001b[43m(\u001b[49m\u001b[43mx\u001b[49m\u001b[43m)\u001b[49m\n\u001b[32m      5\u001b[39m \u001b[38;5;28mprint\u001b[39m(x)\n",
      "\u001b[36mCell\u001b[39m\u001b[36m \u001b[39m\u001b[32mIn[19]\u001b[39m\u001b[32m, line 2\u001b[39m, in \u001b[36mh\u001b[39m\u001b[34m(y)\u001b[39m\n\u001b[32m      1\u001b[39m \u001b[38;5;28;01mdef\u001b[39;00m\u001b[38;5;250m \u001b[39m\u001b[34mh\u001b[39m(y):\n\u001b[32m----> \u001b[39m\u001b[32m2\u001b[39m     \u001b[43mx\u001b[49m += \u001b[32m1\u001b[39m\n",
      "\u001b[31mUnboundLocalError\u001b[39m: cannot access local variable 'x' where it is not associated with a value"
     ]
    }
   ],
   "source": [
    "def h(y):\n",
    "    x += 1\n",
    "x = 5\n",
    "h(x)\n",
    "print(x)"
   ]
  },
  {
   "cell_type": "code",
   "execution_count": 20,
   "id": "059eeeb9",
   "metadata": {},
   "outputs": [
    {
     "name": "stdout",
     "output_type": "stream",
     "text": [
      "6\n"
     ]
    }
   ],
   "source": [
    "def h(y):\n",
    "    global x\n",
    "    x += 1\n",
    "x = 5\n",
    "h(x)\n",
    "print(x)"
   ]
  },
  {
   "cell_type": "code",
   "execution_count": 21,
   "id": "ee236ddc",
   "metadata": {},
   "outputs": [
    {
     "name": "stdout",
     "output_type": "stream",
     "text": [
      "in f(x): x = 4\n",
      "in main program scope: z = 4\n",
      "in main program scope: x = 3\n"
     ]
    }
   ],
   "source": [
    "def f(x):\n",
    "   x = x + 1\n",
    "   print('in f(x): x =', x)\n",
    "   return x\n",
    "\n",
    "x = 3\n",
    "z = f(x)\n",
    "print('in main program scope: z =', z)\n",
    "print('in main program scope: x =', x)"
   ]
  },
  {
   "cell_type": "code",
   "execution_count": 23,
   "id": "3eef4c19",
   "metadata": {},
   "outputs": [
    {
     "name": "stdout",
     "output_type": "stream",
     "text": [
      "inside function g\n",
      "inside function f\n"
     ]
    }
   ],
   "source": [
    "# nested functions\n",
    "def f():\n",
    "    def g():\n",
    "        print('inside function g')\n",
    "    g()\n",
    "    print('inside function f')\n",
    "\n",
    "f()"
   ]
  },
  {
   "cell_type": "code",
   "execution_count": 24,
   "id": "d4a8cb75",
   "metadata": {},
   "outputs": [
    {
     "ename": "TypeError",
     "evalue": "g() missing 1 required positional argument: 'y'",
     "output_type": "error",
     "traceback": [
      "\u001b[31m---------------------------------------------------------------------------\u001b[39m",
      "\u001b[31mTypeError\u001b[39m                                 Traceback (most recent call last)",
      "\u001b[36mCell\u001b[39m\u001b[36m \u001b[39m\u001b[32mIn[24]\u001b[39m\u001b[32m, line 1\u001b[39m\n\u001b[32m----> \u001b[39m\u001b[32m1\u001b[39m \u001b[43mg\u001b[49m\u001b[43m(\u001b[49m\u001b[43m)\u001b[49m\n",
      "\u001b[31mTypeError\u001b[39m: g() missing 1 required positional argument: 'y'"
     ]
    }
   ],
   "source": [
    "g()"
   ]
  },
  {
   "cell_type": "code",
   "execution_count": 25,
   "id": "53b431c1",
   "metadata": {},
   "outputs": [
    {
     "name": "stdout",
     "output_type": "stream",
     "text": [
      "in g(x): x = 4\n"
     ]
    }
   ],
   "source": [
    "def g(x):\n",
    "    def h():\n",
    "        x = 'abc'\n",
    "    x = x + 1\n",
    "    print('in g(x): x =', x)\n",
    "    h()\n",
    "    return x\n",
    "\n",
    "x = 3\n",
    "z = g(x)"
   ]
  },
  {
   "cell_type": "code",
   "execution_count": 26,
   "id": "9df7bf0c",
   "metadata": {},
   "outputs": [
    {
     "name": "stdout",
     "output_type": "stream",
     "text": [
      "in g(x): x =  4\n",
      "in h(x): x =  5\n",
      "in main program scope: x =  3\n",
      "in main program scope: z =  4\n"
     ]
    }
   ],
   "source": [
    "def g(x):\n",
    "    def h(x):\n",
    "        x = x+1\n",
    "        print(\"in h(x): x = \", x)\n",
    "    x = x + 1\n",
    "    print('in g(x): x = ', x)\n",
    "    h(x)\n",
    "    return x\n",
    "\n",
    "x = 3\n",
    "z = g(x)\n",
    "print('in main program scope: x = ', x)\n",
    "print('in main program scope: z = ', z)"
   ]
  },
  {
   "cell_type": "markdown",
   "id": "12abb9ad",
   "metadata": {},
   "source": [
    "### functions are 1st class citizens"
   ]
  },
  {
   "cell_type": "code",
   "execution_count": 33,
   "id": "72c298ba",
   "metadata": {},
   "outputs": [
    {
     "name": "stdout",
     "output_type": "stream",
     "text": [
      "<class 'function'>\n",
      "4435397664\n"
     ]
    }
   ],
   "source": [
    "def square(num):\n",
    "    return num**2\n",
    "print(type(square))\n",
    "print(id(square))"
   ]
  },
  {
   "cell_type": "code",
   "execution_count": 28,
   "id": "06b1bfd1",
   "metadata": {},
   "outputs": [
    {
     "name": "stdout",
     "output_type": "stream",
     "text": [
      "4435395904\n"
     ]
    },
    {
     "data": {
      "text/plain": [
       "9"
      ]
     },
     "execution_count": 28,
     "metadata": {},
     "output_type": "execute_result"
    }
   ],
   "source": [
    "# reassign\n",
    "x = square\n",
    "print(id(x))\n",
    "x(3)"
   ]
  },
  {
   "cell_type": "code",
   "execution_count": 29,
   "id": "5618eb09",
   "metadata": {},
   "outputs": [
    {
     "data": {
      "text/plain": [
       "2"
      ]
     },
     "execution_count": 29,
     "metadata": {},
     "output_type": "execute_result"
    }
   ],
   "source": [
    "a = 2\n",
    "b = a\n",
    "b"
   ]
  },
  {
   "cell_type": "code",
   "execution_count": 30,
   "id": "3274d7ae",
   "metadata": {},
   "outputs": [
    {
     "ename": "NameError",
     "evalue": "name 'square' is not defined",
     "output_type": "error",
     "traceback": [
      "\u001b[31m---------------------------------------------------------------------------\u001b[39m",
      "\u001b[31mNameError\u001b[39m                                 Traceback (most recent call last)",
      "\u001b[36mCell\u001b[39m\u001b[36m \u001b[39m\u001b[32mIn[30]\u001b[39m\u001b[32m, line 3\u001b[39m\n\u001b[32m      1\u001b[39m \u001b[38;5;66;03m# deleting a function\u001b[39;00m\n\u001b[32m      2\u001b[39m \u001b[38;5;28;01mdel\u001b[39;00m square\n\u001b[32m----> \u001b[39m\u001b[32m3\u001b[39m \u001b[43msquare\u001b[49m(\u001b[32m3\u001b[39m)\n",
      "\u001b[31mNameError\u001b[39m: name 'square' is not defined"
     ]
    }
   ],
   "source": [
    "# deleting a function\n",
    "del square\n",
    "square(3)"
   ]
  },
  {
   "cell_type": "code",
   "execution_count": 34,
   "id": "4f98c7b4",
   "metadata": {},
   "outputs": [],
   "source": [
    "# storing\n",
    "L = [1,2,3,square]"
   ]
  },
  {
   "cell_type": "code",
   "execution_count": 35,
   "id": "9a3847af",
   "metadata": {},
   "outputs": [
    {
     "data": {
      "text/plain": [
       "9"
      ]
     },
     "execution_count": 35,
     "metadata": {},
     "output_type": "execute_result"
    }
   ],
   "source": [
    "L[-1](3)"
   ]
  },
  {
   "cell_type": "code",
   "execution_count": 36,
   "id": "b9e12816",
   "metadata": {},
   "outputs": [],
   "source": [
    "# function is a datatype\n",
    "# is the datatype mutable and immutable"
   ]
  },
  {
   "cell_type": "code",
   "execution_count": 37,
   "id": "7df63bd0",
   "metadata": {},
   "outputs": [
    {
     "data": {
      "text/plain": [
       "{<function __main__.square(num)>}"
      ]
     },
     "execution_count": 37,
     "metadata": {},
     "output_type": "execute_result"
    }
   ],
   "source": [
    "s = {square}\n",
    "s"
   ]
  },
  {
   "cell_type": "code",
   "execution_count": 38,
   "id": "8279efc4",
   "metadata": {},
   "outputs": [
    {
     "name": "stdout",
     "output_type": "stream",
     "text": [
      "7\n"
     ]
    }
   ],
   "source": [
    "# returning a function\n",
    "def f():\n",
    "    def x(a, b):\n",
    "        return a+b\n",
    "    return x\n",
    "    \n",
    "val = f()(3,4)\n",
    "print(val)"
   ]
  },
  {
   "cell_type": "code",
   "execution_count": 39,
   "id": "747fd756",
   "metadata": {},
   "outputs": [],
   "source": [
    "# the above code works due to some closure concept"
   ]
  },
  {
   "cell_type": "code",
   "execution_count": 40,
   "id": "30ab77d0",
   "metadata": {},
   "outputs": [
    {
     "name": "stdout",
     "output_type": "stream",
     "text": [
      "inside func_c\n",
      "inside func_a\n",
      "None\n"
     ]
    }
   ],
   "source": [
    "# function as argument\n",
    "def func_a():\n",
    "    print('inside func_a')\n",
    "\n",
    "def func_b(z):\n",
    "    print('inside func_c')\n",
    "    return z()\n",
    "\n",
    "print(func_b(func_a))"
   ]
  },
  {
   "cell_type": "markdown",
   "id": "b0d1c743",
   "metadata": {},
   "source": [
    "### Benefits of using a Function\n",
    "\n",
    "- Code Modularity\n",
    "- Code Readibility\n",
    "- Code Reusability\n"
   ]
  },
  {
   "cell_type": "markdown",
   "id": "a8e55c28",
   "metadata": {},
   "source": [
    "### Lambda function"
   ]
  },
  {
   "cell_type": "code",
   "execution_count": 42,
   "id": "a9cf5477",
   "metadata": {},
   "outputs": [
    {
     "data": {
      "text/plain": [
       "<function __main__.<lambda>(x)>"
      ]
     },
     "execution_count": 42,
     "metadata": {},
     "output_type": "execute_result"
    }
   ],
   "source": [
    "lambda x:x**2"
   ]
  },
  {
   "cell_type": "code",
   "execution_count": 43,
   "id": "ddf25eac",
   "metadata": {},
   "outputs": [
    {
     "data": {
      "text/plain": [
       "9"
      ]
     },
     "execution_count": 43,
     "metadata": {},
     "output_type": "execute_result"
    }
   ],
   "source": [
    "a = lambda x:x**2\n",
    "a(3)"
   ]
  },
  {
   "cell_type": "code",
   "execution_count": 44,
   "id": "9bdf82c6",
   "metadata": {},
   "outputs": [
    {
     "data": {
      "text/plain": [
       "7"
      ]
     },
     "execution_count": 44,
     "metadata": {},
     "output_type": "execute_result"
    }
   ],
   "source": [
    "a = lambda x,y:x+y\n",
    "a(3,4)"
   ]
  },
  {
   "cell_type": "markdown",
   "id": "f8fc6b15",
   "metadata": {},
   "source": [
    "#### Diff between lambda vs Normal Function\n",
    "\n",
    "- No name\n",
    "- lambda has no return value(infact,returns a function)\n",
    "- lambda is written in 1 line\n",
    "- not reusable\n",
    "\n",
    "Then why use lambda functions?<br>\n",
    "**They are used with HOF**"
   ]
  },
  {
   "cell_type": "code",
   "execution_count": 45,
   "id": "9c6c15c9",
   "metadata": {},
   "outputs": [
    {
     "data": {
      "text/plain": [
       "False"
      ]
     },
     "execution_count": 45,
     "metadata": {},
     "output_type": "execute_result"
    }
   ],
   "source": [
    "a = lambda s:'a' in s\n",
    "a('hello')"
   ]
  },
  {
   "cell_type": "code",
   "execution_count": 46,
   "id": "4fe22e10",
   "metadata": {},
   "outputs": [
    {
     "data": {
      "text/plain": [
       "'even'"
      ]
     },
     "execution_count": 46,
     "metadata": {},
     "output_type": "execute_result"
    }
   ],
   "source": [
    "# odd or even\n",
    "a = lambda x:'even' if x%2==0 else 'odd'\n",
    "a(6)"
   ]
  },
  {
   "cell_type": "markdown",
   "id": "260ef4d9",
   "metadata": {},
   "source": [
    "### higher order functions"
   ]
  },
  {
   "cell_type": "code",
   "execution_count": 47,
   "id": "326c4d80",
   "metadata": {},
   "outputs": [],
   "source": [
    "# HOF returns a function or receives a function as input"
   ]
  },
  {
   "cell_type": "code",
   "execution_count": null,
   "id": "9be0a95c",
   "metadata": {},
   "outputs": [],
   "source": []
  }
 ],
 "metadata": {
  "kernelspec": {
   "display_name": "Python 3",
   "language": "python",
   "name": "python3"
  },
  "language_info": {
   "codemirror_mode": {
    "name": "ipython",
    "version": 3
   },
   "file_extension": ".py",
   "mimetype": "text/x-python",
   "name": "python",
   "nbconvert_exporter": "python",
   "pygments_lexer": "ipython3",
   "version": "3.12.0"
  }
 },
 "nbformat": 4,
 "nbformat_minor": 5
}
