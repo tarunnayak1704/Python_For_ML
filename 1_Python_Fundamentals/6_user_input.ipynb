{
 "cells": [
  {
   "cell_type": "code",
   "execution_count": 1,
   "id": "688ee0af",
   "metadata": {},
   "outputs": [
    {
     "data": {
      "text/plain": [
       "'tarun nayak'"
      ]
     },
     "execution_count": 1,
     "metadata": {},
     "output_type": "execute_result"
    }
   ],
   "source": [
    "input('enter your input ')"
   ]
  },
  {
   "cell_type": "code",
   "execution_count": 2,
   "id": "b42d1326",
   "metadata": {},
   "outputs": [
    {
     "name": "stdout",
     "output_type": "stream",
     "text": [
      "3\n",
      "<class 'int'>\n"
     ]
    }
   ],
   "source": [
    "# take input from user and store them in a variable\n",
    "num1 = int(input('enter the first number:'))\n",
    "num2 = int(input('enter the second number:'))\n",
    "\n",
    "# add the two numbers\n",
    "result = num1 + num2\n",
    "\n",
    "# print the result\n",
    "print(result)\n",
    "print(type(result))"
   ]
  },
  {
   "cell_type": "code",
   "execution_count": 3,
   "id": "224bebd7",
   "metadata": {},
   "outputs": [],
   "source": [
    "# string is a universal format for input"
   ]
  },
  {
   "cell_type": "code",
   "execution_count": null,
   "id": "208b576a",
   "metadata": {},
   "outputs": [],
   "source": []
  }
 ],
 "metadata": {
  "kernelspec": {
   "display_name": "base",
   "language": "python",
   "name": "python3"
  },
  "language_info": {
   "codemirror_mode": {
    "name": "ipython",
    "version": 3
   },
   "file_extension": ".py",
   "mimetype": "text/x-python",
   "name": "python",
   "nbconvert_exporter": "python",
   "pygments_lexer": "ipython3",
   "version": "3.12.7"
  }
 },
 "nbformat": 4,
 "nbformat_minor": 5
}
