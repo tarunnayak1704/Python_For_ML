{
 "cells": [
  {
   "cell_type": "code",
   "execution_count": 1,
   "id": "f007820b",
   "metadata": {},
   "outputs": [
    {
     "name": "stdout",
     "output_type": "stream",
     "text": [
      "5\n",
      "-2\n",
      "12\n",
      "3.5\n",
      "3\n",
      "1\n",
      "49\n"
     ]
    }
   ],
   "source": [
    "# Arithmetic operators\n",
    "print(2+3)\n",
    "print(4-6)\n",
    "print(3*4)\n",
    "print(7/2)\n",
    "print(7//2)\n",
    "print(7%2)\n",
    "print(7**2)"
   ]
  },
  {
   "cell_type": "code",
   "execution_count": 2,
   "id": "a44751bd",
   "metadata": {},
   "outputs": [
    {
     "name": "stdout",
     "output_type": "stream",
     "text": [
      "True\n",
      "True\n",
      "True\n",
      "False\n"
     ]
    }
   ],
   "source": [
    "# Relational operators\n",
    "print(3>2)\n",
    "print(4>=4)\n",
    "print(3==3)\n",
    "print(7!=7)"
   ]
  },
  {
   "cell_type": "code",
   "execution_count": 3,
   "id": "afb091e5",
   "metadata": {},
   "outputs": [
    {
     "name": "stdout",
     "output_type": "stream",
     "text": [
      "0\n",
      "1\n",
      "True\n"
     ]
    }
   ],
   "source": [
    "# Logical Operators\n",
    "print(1 and 0)\n",
    "print(1 or 0)\n",
    "print(not 0)"
   ]
  },
  {
   "cell_type": "code",
   "execution_count": 6,
   "id": "b928c373",
   "metadata": {},
   "outputs": [
    {
     "name": "stdout",
     "output_type": "stream",
     "text": [
      "2\n",
      "3\n",
      "1\n",
      "-3\n"
     ]
    }
   ],
   "source": [
    "# Bitwise operators\n",
    "# bitwise and\n",
    "print(2 & 3)    # bitwise AND\n",
    "print(2|3)      # bitwise OR\n",
    "print(2^3)      # bitwise XOR\n",
    "print(~2)       # bitwise NOT"
   ]
  },
  {
   "cell_type": "code",
   "execution_count": 7,
   "id": "4d5fc5c3",
   "metadata": {},
   "outputs": [
    {
     "name": "stdout",
     "output_type": "stream",
     "text": [
      "1\n",
      "160\n"
     ]
    }
   ],
   "source": [
    "# right shift\n",
    "print(4 >> 2)\n",
    "\n",
    "# left shift\n",
    "print(5 << 5)"
   ]
  },
  {
   "cell_type": "code",
   "execution_count": 8,
   "id": "4db42a84",
   "metadata": {},
   "outputs": [],
   "source": [
    "# assignment operators\n",
    "# =\n",
    "# a = 2"
   ]
  },
  {
   "cell_type": "code",
   "execution_count": 9,
   "id": "f377a37f",
   "metadata": {},
   "outputs": [
    {
     "name": "stdout",
     "output_type": "stream",
     "text": [
      "2\n"
     ]
    }
   ],
   "source": [
    "# a = a+1\n",
    "a = 1\n",
    "a += 1\n",
    "print(a)\n",
    "\n",
    "# a++ or ++a : not valid syntax in python"
   ]
  },
  {
   "cell_type": "code",
   "execution_count": 10,
   "id": "4b8d6842",
   "metadata": {},
   "outputs": [
    {
     "name": "stdout",
     "output_type": "stream",
     "text": [
      "True\n"
     ]
    }
   ],
   "source": [
    "# Membership operator\n",
    "print('K' in 'Kolkata')"
   ]
  },
  {
   "cell_type": "code",
   "execution_count": 11,
   "id": "bc00d487",
   "metadata": {},
   "outputs": [
    {
     "name": "stdout",
     "output_type": "stream",
     "text": [
      "False\n"
     ]
    }
   ],
   "source": [
    "print(1 not in [1,2,3])"
   ]
  },
  {
   "cell_type": "code",
   "execution_count": 12,
   "id": "6bc4dbee",
   "metadata": {},
   "outputs": [
    {
     "name": "stdout",
     "output_type": "stream",
     "text": [
      "6\n"
     ]
    }
   ],
   "source": [
    "# find the sum of three digits of a three digit number\n",
    "n = int(input('enter a number:'))\n",
    "\n",
    "a = n%10\n",
    "n = n//10\n",
    "b = n%10\n",
    "n = n//10\n",
    "c = n%10\n",
    "\n",
    "print(a+b+c)"
   ]
  },
  {
   "cell_type": "code",
   "execution_count": 1,
   "id": "5cc8d594",
   "metadata": {},
   "outputs": [
    {
     "name": "stdout",
     "output_type": "stream",
     "text": [
      "Bye\n"
     ]
    }
   ],
   "source": [
    "# ternary operators\n",
    "a,b=14,12\n",
    "print(\"Hi\") if a<b else print(\"Bye\")"
   ]
  },
  {
   "cell_type": "markdown",
   "id": "ffa5566f",
   "metadata": {},
   "source": [
    "#### 'is' operator\n",
    "**Identity operators**\n",
    "In Python, is and is not are used to check if two values are located on the same part of the memory. Two variables that are equal does not imply that they are identical."
   ]
  },
  {
   "cell_type": "code",
   "execution_count": 2,
   "id": "5b251e52",
   "metadata": {},
   "outputs": [
    {
     "data": {
      "text/plain": [
       "4383039248"
      ]
     },
     "execution_count": 2,
     "metadata": {},
     "output_type": "execute_result"
    }
   ],
   "source": [
    "a = 1\n",
    "id(a)"
   ]
  },
  {
   "cell_type": "code",
   "execution_count": 3,
   "id": "65f29e09",
   "metadata": {},
   "outputs": [
    {
     "data": {
      "text/plain": [
       "4383039280"
      ]
     },
     "execution_count": 3,
     "metadata": {},
     "output_type": "execute_result"
    }
   ],
   "source": [
    "a = 2\n",
    "id(a)"
   ]
  },
  {
   "cell_type": "code",
   "execution_count": 4,
   "id": "5efc5809",
   "metadata": {},
   "outputs": [
    {
     "data": {
      "text/plain": [
       "True"
      ]
     },
     "execution_count": 4,
     "metadata": {},
     "output_type": "execute_result"
    }
   ],
   "source": [
    "a = 1\n",
    "b = 1\n",
    "a is b"
   ]
  },
  {
   "cell_type": "code",
   "execution_count": 5,
   "id": "189ec0ce",
   "metadata": {},
   "outputs": [
    {
     "data": {
      "text/plain": [
       "4383039248"
      ]
     },
     "execution_count": 5,
     "metadata": {},
     "output_type": "execute_result"
    }
   ],
   "source": [
    "id(a)"
   ]
  },
  {
   "cell_type": "code",
   "execution_count": 6,
   "id": "f87efd4b",
   "metadata": {},
   "outputs": [
    {
     "data": {
      "text/plain": [
       "4383039248"
      ]
     },
     "execution_count": 6,
     "metadata": {},
     "output_type": "execute_result"
    }
   ],
   "source": [
    "id(b)"
   ]
  },
  {
   "cell_type": "code",
   "execution_count": 7,
   "id": "2a1ece66",
   "metadata": {},
   "outputs": [
    {
     "data": {
      "text/plain": [
       "False"
      ]
     },
     "execution_count": 7,
     "metadata": {},
     "output_type": "execute_result"
    }
   ],
   "source": [
    "a = 257\n",
    "b = 257\n",
    "\n",
    "a is b"
   ]
  },
  {
   "cell_type": "code",
   "execution_count": 8,
   "id": "434ccac9",
   "metadata": {},
   "outputs": [
    {
     "data": {
      "text/plain": [
       "4572654096"
      ]
     },
     "execution_count": 8,
     "metadata": {},
     "output_type": "execute_result"
    }
   ],
   "source": [
    "id(a)"
   ]
  },
  {
   "cell_type": "code",
   "execution_count": 9,
   "id": "969070bc",
   "metadata": {},
   "outputs": [
    {
     "data": {
      "text/plain": [
       "4572652848"
      ]
     },
     "execution_count": 9,
     "metadata": {},
     "output_type": "execute_result"
    }
   ],
   "source": [
    "id(b)"
   ]
  },
  {
   "cell_type": "code",
   "execution_count": 10,
   "id": "f1be4d27",
   "metadata": {},
   "outputs": [
    {
     "data": {
      "text/plain": [
       "True"
      ]
     },
     "execution_count": 10,
     "metadata": {},
     "output_type": "execute_result"
    }
   ],
   "source": [
    "a == b"
   ]
  },
  {
   "cell_type": "code",
   "execution_count": 11,
   "id": "c5a71738",
   "metadata": {},
   "outputs": [
    {
     "data": {
      "text/plain": [
       "False"
      ]
     },
     "execution_count": 11,
     "metadata": {},
     "output_type": "execute_result"
    }
   ],
   "source": [
    "# -5 to 256\n",
    "\n",
    "a = -14\n",
    "b = -14\n",
    "\n",
    "a is b"
   ]
  },
  {
   "cell_type": "code",
   "execution_count": 12,
   "id": "a5537719",
   "metadata": {},
   "outputs": [
    {
     "name": "stdout",
     "output_type": "stream",
     "text": [
      "id of p 4573617984\n",
      "Id of s 4573617984\n",
      "id of q 4573609920\n",
      "Comapare- s == q True\n",
      "Identity- s is q False\n",
      "Identity- s is p True\n",
      "Comapare- s == p True\n"
     ]
    }
   ],
   "source": [
    "# cloning\n",
    "s=[1,2,3]\n",
    "p=s\n",
    "# cloning\n",
    "q=s[:]\n",
    "print(\"id of p\", id(p))\n",
    "print(\"Id of s\", id(s))\n",
    "print(\"id of q\", id(q))\n",
    "print(\"Comapare- s == q\", s==q)\n",
    "print(\"Identity- s is q\", s is q)\n",
    "print(\"Identity- s is p\", s is p)\n",
    "print(\"Comapare- s == p\", s==p)"
   ]
  },
  {
   "cell_type": "code",
   "execution_count": 13,
   "id": "86f5e7f4",
   "metadata": {},
   "outputs": [
    {
     "name": "stdout",
     "output_type": "stream",
     "text": [
      "[1, 2, 3, 4]\n",
      "[1, 2, 3]\n"
     ]
    }
   ],
   "source": [
    "a = [1,2,3]\n",
    "b = a[:]\n",
    "\n",
    "a.append(4)\n",
    "print(a)\n",
    "print(b)"
   ]
  },
  {
   "cell_type": "code",
   "execution_count": null,
   "id": "bfaa6e85",
   "metadata": {},
   "outputs": [],
   "source": []
  }
 ],
 "metadata": {
  "kernelspec": {
   "display_name": "venv",
   "language": "python",
   "name": "python3"
  },
  "language_info": {
   "codemirror_mode": {
    "name": "ipython",
    "version": 3
   },
   "file_extension": ".py",
   "mimetype": "text/x-python",
   "name": "python",
   "nbconvert_exporter": "python",
   "pygments_lexer": "ipython3",
   "version": "3.12.7"
  }
 },
 "nbformat": 4,
 "nbformat_minor": 5
}
