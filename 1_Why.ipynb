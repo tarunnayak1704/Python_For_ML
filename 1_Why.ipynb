{
 "cells": [
  {
   "cell_type": "markdown",
   "id": "b2b16352",
   "metadata": {},
   "source": [
    "### Why Python?\n",
    "- design philosophy\n",
    "- **batteries included\\***\n",
    "- general purpose language\n",
    "- libraries\n",
    "- communities\n",
    "\n",
    "### Why Python for Data Science?\n",
    "- easy to learn\n",
    "- proximity with maths\n",
    "- community\n",
    "\n",
    "  **Batteries included\\*** refers to python's philosophy of providing a rich standard library that includes a vast collection of built-in modules and tools, so users don't have to install external packages for common tasks."
   ]
  },
  {
   "cell_type": "markdown",
   "id": "30bae16a",
   "metadata": {},
   "source": []
  }
 ],
 "metadata": {
  "kernelspec": {
   "display_name": "base",
   "language": "python",
   "name": "python3"
  },
  "language_info": {
   "name": "python",
   "version": "3.12.7"
  }
 },
 "nbformat": 4,
 "nbformat_minor": 5
}
