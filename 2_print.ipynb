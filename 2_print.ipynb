{
 "cells": [
  {
   "cell_type": "markdown",
   "id": "2aa50714",
   "metadata": {},
   "source": [
    "### print statement"
   ]
  },
  {
   "cell_type": "code",
   "execution_count": 1,
   "id": "a6003159",
   "metadata": {},
   "outputs": [
    {
     "name": "stdout",
     "output_type": "stream",
     "text": [
      "hello world\n"
     ]
    }
   ],
   "source": [
    "print('hello world')"
   ]
  },
  {
   "cell_type": "code",
   "execution_count": 2,
   "id": "b40317b1",
   "metadata": {},
   "outputs": [
    {
     "name": "stdout",
     "output_type": "stream",
     "text": [
      "7\n"
     ]
    }
   ],
   "source": [
    "print(7)"
   ]
  },
  {
   "cell_type": "code",
   "execution_count": 3,
   "id": "aef659a4",
   "metadata": {},
   "outputs": [
    {
     "name": "stdout",
     "output_type": "stream",
     "text": [
      "hello 7 1.7 True\n"
     ]
    }
   ],
   "source": [
    "print('hello', 7, 1.7, True)"
   ]
  },
  {
   "cell_type": "code",
   "execution_count": 4,
   "id": "cc9620e6",
   "metadata": {},
   "outputs": [
    {
     "name": "stdout",
     "output_type": "stream",
     "text": [
      "hi/7/1.7/False\n"
     ]
    }
   ],
   "source": [
    "# sep in print\n",
    "print('hi', 7, 1.7, False, sep='/')"
   ]
  },
  {
   "cell_type": "code",
   "execution_count": 5,
   "id": "e485f262",
   "metadata": {},
   "outputs": [
    {
     "name": "stdout",
     "output_type": "stream",
     "text": [
      "hello\n",
      "world\n"
     ]
    }
   ],
   "source": [
    "print('hello')\n",
    "print('world')"
   ]
  },
  {
   "cell_type": "code",
   "execution_count": 6,
   "id": "f9efa025",
   "metadata": {},
   "outputs": [
    {
     "name": "stdout",
     "output_type": "stream",
     "text": [
      "hello-world\n"
     ]
    }
   ],
   "source": [
    "print('hello', end='-')\n",
    "print('world')"
   ]
  },
  {
   "cell_type": "code",
   "execution_count": null,
   "id": "8958e19c",
   "metadata": {},
   "outputs": [],
   "source": []
  }
 ],
 "metadata": {
  "kernelspec": {
   "display_name": "base",
   "language": "python",
   "name": "python3"
  },
  "language_info": {
   "codemirror_mode": {
    "name": "ipython",
    "version": 3
   },
   "file_extension": ".py",
   "mimetype": "text/x-python",
   "name": "python",
   "nbconvert_exporter": "python",
   "pygments_lexer": "ipython3",
   "version": "3.12.7"
  }
 },
 "nbformat": 4,
 "nbformat_minor": 5
}
