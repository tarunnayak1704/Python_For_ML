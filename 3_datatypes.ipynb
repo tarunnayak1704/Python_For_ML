{
 "cells": [
  {
   "cell_type": "markdown",
   "id": "a5ede1d4",
   "metadata": {},
   "source": [
    "### datatypes"
   ]
  },
  {
   "cell_type": "code",
   "execution_count": 1,
   "id": "b2c61453",
   "metadata": {},
   "outputs": [
    {
     "name": "stdout",
     "output_type": "stream",
     "text": [
      "7\n"
     ]
    }
   ],
   "source": [
    "# integer\n",
    "print(7)"
   ]
  },
  {
   "cell_type": "code",
   "execution_count": 4,
   "id": "b3dad1d9",
   "metadata": {},
   "outputs": [
    {
     "name": "stdout",
     "output_type": "stream",
     "text": [
      "1e+308\n",
      "inf\n"
     ]
    }
   ],
   "source": [
    "# it can handle large integers\n",
    "print(1.e308)\n",
    "print(1.e309)"
   ]
  },
  {
   "cell_type": "code",
   "execution_count": 8,
   "id": "33b94865",
   "metadata": {},
   "outputs": [
    {
     "name": "stdout",
     "output_type": "stream",
     "text": [
      "1.7\n",
      "1.7e+308\n"
     ]
    }
   ],
   "source": [
    "# deciman/float\n",
    "print(1.7)\n",
    "print(1.7e308)"
   ]
  },
  {
   "cell_type": "code",
   "execution_count": 9,
   "id": "92d7189d",
   "metadata": {},
   "outputs": [
    {
     "name": "stdout",
     "output_type": "stream",
     "text": [
      "True\n",
      "False\n"
     ]
    }
   ],
   "source": [
    "# boolean\n",
    "print(True)\n",
    "print(False)"
   ]
  },
  {
   "cell_type": "code",
   "execution_count": null,
   "id": "ea372571",
   "metadata": {},
   "outputs": [
    {
     "name": "stdout",
     "output_type": "stream",
     "text": [
      "Tarun\n"
     ]
    }
   ],
   "source": [
    "# text/str\n",
    "print('Tarun')"
   ]
  },
  {
   "cell_type": "code",
   "execution_count": 11,
   "id": "0047749b",
   "metadata": {},
   "outputs": [
    {
     "name": "stdout",
     "output_type": "stream",
     "text": [
      "(1+7j)\n"
     ]
    }
   ],
   "source": [
    "# complex number\n",
    "print(1+7j)"
   ]
  },
  {
   "cell_type": "code",
   "execution_count": 15,
   "id": "f0579df9",
   "metadata": {},
   "outputs": [
    {
     "name": "stdout",
     "output_type": "stream",
     "text": [
      "[1, 2, 3, 4, 5, 6, 7]\n"
     ]
    }
   ],
   "source": [
    "# list\n",
    "print([1,2,3,4,5,6,7])"
   ]
  },
  {
   "cell_type": "code",
   "execution_count": 16,
   "id": "89a788de",
   "metadata": {},
   "outputs": [
    {
     "name": "stdout",
     "output_type": "stream",
     "text": [
      "(1, 2, 3, 4, 5, 6, 7, 7)\n"
     ]
    }
   ],
   "source": [
    "# tuple\n",
    "print((1,2,3,4,5,6,7,7))"
   ]
  },
  {
   "cell_type": "code",
   "execution_count": 17,
   "id": "ad52010d",
   "metadata": {},
   "outputs": [
    {
     "name": "stdout",
     "output_type": "stream",
     "text": [
      "{1, 2, 3, 4, 5, 6, 7}\n"
     ]
    }
   ],
   "source": [
    "# set\n",
    "print({1,2,3,4,5,6,7,7})"
   ]
  },
  {
   "cell_type": "code",
   "execution_count": 18,
   "id": "e4461e24",
   "metadata": {},
   "outputs": [
    {
     "name": "stdout",
     "output_type": "stream",
     "text": [
      "{'name': 'Tarun', 'age': 31, 'gender': 'Male', 'weight(kg)': 70.0, 'height(m)': 1.79}\n"
     ]
    }
   ],
   "source": [
    "# dictionary\n",
    "print({'name':'Tarun', 'age': 31, 'gender': 'Male', 'weight(kg)': 70.0, 'height(m)': 1.79})"
   ]
  },
  {
   "cell_type": "code",
   "execution_count": 26,
   "id": "3fef468f",
   "metadata": {},
   "outputs": [
    {
     "name": "stdout",
     "output_type": "stream",
     "text": [
      "<class 'list'>\n",
      "<class 'complex'>\n",
      "<class 'bool'>\n",
      "<class 'int'>\n",
      "<class 'float'>\n",
      "<class 'str'>\n",
      "<class 'tuple'>\n",
      "<class 'set'>\n",
      "<class 'dict'>\n"
     ]
    }
   ],
   "source": [
    "# type\n",
    "print(type([1,2,3]))\n",
    "print(type(1+7j))\n",
    "print(type(True))\n",
    "print(type(17))\n",
    "print(type(17.0))\n",
    "print(type('tarun'))\n",
    "print(type((1,2,3)))\n",
    "print(type({1,2,3,3}))\n",
    "print(type({'name':'Tarun', 'age': 31}))"
   ]
  },
  {
   "cell_type": "code",
   "execution_count": null,
   "id": "914608bb",
   "metadata": {},
   "outputs": [],
   "source": []
  }
 ],
 "metadata": {
  "kernelspec": {
   "display_name": "base",
   "language": "python",
   "name": "python3"
  },
  "language_info": {
   "codemirror_mode": {
    "name": "ipython",
    "version": 3
   },
   "file_extension": ".py",
   "mimetype": "text/x-python",
   "name": "python",
   "nbconvert_exporter": "python",
   "pygments_lexer": "ipython3",
   "version": "3.12.7"
  }
 },
 "nbformat": 4,
 "nbformat_minor": 5
}
