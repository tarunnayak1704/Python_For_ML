{
 "cells": [
  {
   "cell_type": "markdown",
   "id": "c48fd9cd",
   "metadata": {},
   "source": [
    "### variables"
   ]
  },
  {
   "cell_type": "markdown",
   "id": "a25d4f90",
   "metadata": {},
   "source": [
    "- static vs dynamic typing\n",
    "    - static typing\n",
    "       - c, c++, java\n",
    "       - variables have fixed types that must be declared explicitly\n",
    "       - type checking happens at compile time\n",
    "       - catches type error before running the code\n",
    "       - leads to better performance (compiler optimizations)\n",
    "    - dynamic typing\n",
    "       - python, variable types are determined at runtime\n",
    "       - no need to declare type when defining a variable"
   ]
  },
  {
   "cell_type": "code",
   "execution_count": 1,
   "id": "cf5bc28b",
   "metadata": {},
   "outputs": [
    {
     "name": "stdout",
     "output_type": "stream",
     "text": [
      "tarun\n"
     ]
    }
   ],
   "source": [
    "name = 'tarun'\n",
    "print(name)"
   ]
  },
  {
   "cell_type": "code",
   "execution_count": 2,
   "id": "e8099661",
   "metadata": {},
   "outputs": [
    {
     "name": "stdout",
     "output_type": "stream",
     "text": [
      "3\n"
     ]
    }
   ],
   "source": [
    "a = 1\n",
    "b = 2\n",
    "print(a+b)"
   ]
  },
  {
   "cell_type": "code",
   "execution_count": 3,
   "id": "259c29a9",
   "metadata": {},
   "outputs": [],
   "source": [
    "# dynamic typing\n",
    "a = 7"
   ]
  },
  {
   "cell_type": "code",
   "execution_count": 4,
   "id": "e54b3f89",
   "metadata": {},
   "outputs": [
    {
     "ename": "SyntaxError",
     "evalue": "invalid syntax (1032321181.py, line 2)",
     "output_type": "error",
     "traceback": [
      "\u001b[0;36m  Cell \u001b[0;32mIn[4], line 2\u001b[0;36m\u001b[0m\n\u001b[0;31m    int a = 7\u001b[0m\n\u001b[0m        ^\u001b[0m\n\u001b[0;31mSyntaxError\u001b[0m\u001b[0;31m:\u001b[0m invalid syntax\n"
     ]
    }
   ],
   "source": [
    "# static typing\n",
    "int a = 7"
   ]
  },
  {
   "cell_type": "code",
   "execution_count": 10,
   "id": "fcba3448",
   "metadata": {},
   "outputs": [
    {
     "name": "stdout",
     "output_type": "stream",
     "text": [
      "7\n",
      "tarun\n"
     ]
    }
   ],
   "source": [
    "# concept of dynamic binding\n",
    "# data type of a variable can change in a python code\n",
    "a = 7\n",
    "print(a)\n",
    "\n",
    "a = 'tarun'\n",
    "print(a)"
   ]
  },
  {
   "cell_type": "markdown",
   "id": "b685cf4d",
   "metadata": {},
   "source": [
    "#### stylish declaration techniques"
   ]
  },
  {
   "cell_type": "code",
   "execution_count": 5,
   "id": "ee31e906",
   "metadata": {},
   "outputs": [
    {
     "name": "stdout",
     "output_type": "stream",
     "text": [
      "1 2 3\n"
     ]
    }
   ],
   "source": [
    "a = 1\n",
    "b = 2\n",
    "c = 3\n",
    "print(a,b,c)"
   ]
  },
  {
   "cell_type": "code",
   "execution_count": 6,
   "id": "d4c868bd",
   "metadata": {},
   "outputs": [
    {
     "name": "stdout",
     "output_type": "stream",
     "text": [
      "1 2 3\n"
     ]
    }
   ],
   "source": [
    "a,b,c = 1,2,3\n",
    "print(a,b,c)"
   ]
  },
  {
   "cell_type": "code",
   "execution_count": 7,
   "id": "494e1363",
   "metadata": {},
   "outputs": [
    {
     "name": "stdout",
     "output_type": "stream",
     "text": [
      "7 7 7\n"
     ]
    }
   ],
   "source": [
    "a=b=c=7\n",
    "print(a,b,c)"
   ]
  },
  {
   "cell_type": "code",
   "execution_count": 11,
   "id": "3aeff35e",
   "metadata": {},
   "outputs": [],
   "source": [
    "# it's a comment"
   ]
  },
  {
   "cell_type": "code",
   "execution_count": null,
   "id": "d6cd0ee5",
   "metadata": {},
   "outputs": [],
   "source": [
    "\"\"\"\n",
    "This is a multiline comment.\n",
    "Even this line is a comment.\n",
    "Multiline comments.\n",
    "\"\"\""
   ]
  }
 ],
 "metadata": {
  "kernelspec": {
   "display_name": "base",
   "language": "python",
   "name": "python3"
  },
  "language_info": {
   "codemirror_mode": {
    "name": "ipython",
    "version": 3
   },
   "file_extension": ".py",
   "mimetype": "text/x-python",
   "name": "python",
   "nbconvert_exporter": "python",
   "pygments_lexer": "ipython3",
   "version": "3.12.7"
  }
 },
 "nbformat": 4,
 "nbformat_minor": 5
}
