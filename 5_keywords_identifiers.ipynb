{
 "cells": [
  {
   "cell_type": "markdown",
   "id": "0e8a32ac",
   "metadata": {},
   "source": [
    "### keywords and identifiers"
   ]
  },
  {
   "cell_type": "markdown",
   "id": "74544dfc",
   "metadata": {},
   "source": [
    "**Keywords**\n",
    "- compilation is a process where a **high level language** is converted to **machine level language (binary language)**\n",
    "- compiler or interpreter does the compilation process\n",
    "- keywords are: print, if, elif, True, ...\n",
    "- there are 32 keywords\n",
    "- these keywords are reserved for compilation and should not be used as variable name\n",
    "\n",
    "**Identifiers**\n",
    "- some name we create for a variable\n",
    "- a = 3, here a is an identifier\n",
    "- rule: cannot start with a digit\n",
    "- no other special character other than _ is allowed"
   ]
  },
  {
   "cell_type": "code",
   "execution_count": 1,
   "id": "a9a9acf6",
   "metadata": {},
   "outputs": [],
   "source": [
    "# keyword"
   ]
  },
  {
   "cell_type": "code",
   "execution_count": 2,
   "id": "904bad8e",
   "metadata": {},
   "outputs": [
    {
     "name": "stdout",
     "output_type": "stream",
     "text": [
      "tarun\n"
     ]
    }
   ],
   "source": [
    "### identifiers\n",
    "name = 'tarun'\n",
    "print(name)"
   ]
  },
  {
   "cell_type": "code",
   "execution_count": 3,
   "id": "e03c3eac",
   "metadata": {},
   "outputs": [
    {
     "name": "stdout",
     "output_type": "stream",
     "text": [
      "tarun\n"
     ]
    }
   ],
   "source": [
    "name1 = 'tarun'\n",
    "print(name1)"
   ]
  },
  {
   "cell_type": "code",
   "execution_count": 4,
   "id": "c73c3d41",
   "metadata": {},
   "outputs": [
    {
     "ename": "SyntaxError",
     "evalue": "invalid decimal literal (3458085517.py, line 1)",
     "output_type": "error",
     "traceback": [
      "\u001b[0;36m  Cell \u001b[0;32mIn[4], line 1\u001b[0;36m\u001b[0m\n\u001b[0;31m    1name = 'tarun'\u001b[0m\n\u001b[0m    ^\u001b[0m\n\u001b[0;31mSyntaxError\u001b[0m\u001b[0;31m:\u001b[0m invalid decimal literal\n"
     ]
    }
   ],
   "source": [
    "1name = 'tarun'\n",
    "print(1name)"
   ]
  },
  {
   "cell_type": "code",
   "execution_count": 5,
   "id": "64569c23",
   "metadata": {},
   "outputs": [
    {
     "name": "stdout",
     "output_type": "stream",
     "text": [
      "tarun\n"
     ]
    }
   ],
   "source": [
    "_name = 'tarun'\n",
    "print(_name)"
   ]
  },
  {
   "cell_type": "code",
   "execution_count": 6,
   "id": "55849e78",
   "metadata": {},
   "outputs": [
    {
     "name": "stdout",
     "output_type": "stream",
     "text": [
      "tarun\n"
     ]
    }
   ],
   "source": [
    "_ = 'tarun'\n",
    "print(_)"
   ]
  },
  {
   "cell_type": "code",
   "execution_count": 7,
   "id": "e987956e",
   "metadata": {},
   "outputs": [
    {
     "ename": "SyntaxError",
     "evalue": "invalid syntax (1458319575.py, line 1)",
     "output_type": "error",
     "traceback": [
      "\u001b[0;36m  Cell \u001b[0;32mIn[7], line 1\u001b[0;36m\u001b[0m\n\u001b[0;31m    name! = 'tarun'\u001b[0m\n\u001b[0m        ^\u001b[0m\n\u001b[0;31mSyntaxError\u001b[0m\u001b[0;31m:\u001b[0m invalid syntax\n"
     ]
    }
   ],
   "source": [
    "name! = 'tarun'\n",
    "print(name!)"
   ]
  },
  {
   "cell_type": "markdown",
   "id": "529d2b0c",
   "metadata": {},
   "source": []
  }
 ],
 "metadata": {
  "kernelspec": {
   "display_name": "base",
   "language": "python",
   "name": "python3"
  },
  "language_info": {
   "codemirror_mode": {
    "name": "ipython",
    "version": 3
   },
   "file_extension": ".py",
   "mimetype": "text/x-python",
   "name": "python",
   "nbconvert_exporter": "python",
   "pygments_lexer": "ipython3",
   "version": "3.12.7"
  }
 },
 "nbformat": 4,
 "nbformat_minor": 5
}
