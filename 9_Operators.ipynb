{
 "cells": [
  {
   "cell_type": "code",
   "execution_count": 1,
   "id": "f007820b",
   "metadata": {},
   "outputs": [
    {
     "name": "stdout",
     "output_type": "stream",
     "text": [
      "5\n",
      "-2\n",
      "12\n",
      "3.5\n",
      "3\n",
      "1\n",
      "49\n"
     ]
    }
   ],
   "source": [
    "# Arithmetic operators\n",
    "print(2+3)\n",
    "print(4-6)\n",
    "print(3*4)\n",
    "print(7/2)\n",
    "print(7//2)\n",
    "print(7%2)\n",
    "print(7**2)"
   ]
  },
  {
   "cell_type": "code",
   "execution_count": 2,
   "id": "a44751bd",
   "metadata": {},
   "outputs": [
    {
     "name": "stdout",
     "output_type": "stream",
     "text": [
      "True\n",
      "True\n",
      "True\n",
      "False\n"
     ]
    }
   ],
   "source": [
    "# Relational operators\n",
    "print(3>2)\n",
    "print(4>=4)\n",
    "print(3==3)\n",
    "print(7!=7)"
   ]
  },
  {
   "cell_type": "code",
   "execution_count": 3,
   "id": "afb091e5",
   "metadata": {},
   "outputs": [
    {
     "name": "stdout",
     "output_type": "stream",
     "text": [
      "0\n",
      "1\n",
      "True\n"
     ]
    }
   ],
   "source": [
    "# Logical Operators\n",
    "print(1 and 0)\n",
    "print(1 or 0)\n",
    "print(not 0)"
   ]
  },
  {
   "cell_type": "code",
   "execution_count": 6,
   "id": "b928c373",
   "metadata": {},
   "outputs": [
    {
     "name": "stdout",
     "output_type": "stream",
     "text": [
      "2\n",
      "3\n",
      "1\n",
      "-3\n"
     ]
    }
   ],
   "source": [
    "# Bitwise operators\n",
    "# bitwise and\n",
    "print(2 & 3)    # bitwise AND\n",
    "print(2|3)      # bitwise OR\n",
    "print(2^3)      # bitwise XOR\n",
    "print(~2)       # bitwise NOT"
   ]
  },
  {
   "cell_type": "code",
   "execution_count": 7,
   "id": "4d5fc5c3",
   "metadata": {},
   "outputs": [
    {
     "name": "stdout",
     "output_type": "stream",
     "text": [
      "1\n",
      "160\n"
     ]
    }
   ],
   "source": [
    "# right shift\n",
    "print(4 >> 2)\n",
    "\n",
    "# left shift\n",
    "print(5 << 5)"
   ]
  },
  {
   "cell_type": "code",
   "execution_count": 8,
   "id": "4db42a84",
   "metadata": {},
   "outputs": [],
   "source": [
    "# assignment operators\n",
    "# =\n",
    "# a = 2"
   ]
  },
  {
   "cell_type": "code",
   "execution_count": 9,
   "id": "f377a37f",
   "metadata": {},
   "outputs": [
    {
     "name": "stdout",
     "output_type": "stream",
     "text": [
      "2\n"
     ]
    }
   ],
   "source": [
    "# a = a+1\n",
    "a = 1\n",
    "a += 1\n",
    "print(a)\n",
    "\n",
    "# a++ or ++a : not valid syntax in python"
   ]
  },
  {
   "cell_type": "code",
   "execution_count": 10,
   "id": "4b8d6842",
   "metadata": {},
   "outputs": [
    {
     "name": "stdout",
     "output_type": "stream",
     "text": [
      "True\n"
     ]
    }
   ],
   "source": [
    "# Membership operator\n",
    "print('K' in 'Kolkata')"
   ]
  },
  {
   "cell_type": "code",
   "execution_count": 11,
   "id": "bc00d487",
   "metadata": {},
   "outputs": [
    {
     "name": "stdout",
     "output_type": "stream",
     "text": [
      "False\n"
     ]
    }
   ],
   "source": [
    "print(1 not in [1,2,3])"
   ]
  },
  {
   "cell_type": "code",
   "execution_count": 12,
   "id": "6bc4dbee",
   "metadata": {},
   "outputs": [
    {
     "name": "stdout",
     "output_type": "stream",
     "text": [
      "6\n"
     ]
    }
   ],
   "source": [
    "# find the sum of three digits of a three digit number\n",
    "n = int(input('enter a number:'))\n",
    "\n",
    "a = n%10\n",
    "n = n//10\n",
    "b = n%10\n",
    "n = n//10\n",
    "c = n%10\n",
    "\n",
    "print(a+b+c)"
   ]
  },
  {
   "cell_type": "code",
   "execution_count": null,
   "id": "5cc8d594",
   "metadata": {},
   "outputs": [],
   "source": []
  }
 ],
 "metadata": {
  "kernelspec": {
   "display_name": "base",
   "language": "python",
   "name": "python3"
  },
  "language_info": {
   "codemirror_mode": {
    "name": "ipython",
    "version": 3
   },
   "file_extension": ".py",
   "mimetype": "text/x-python",
   "name": "python",
   "nbconvert_exporter": "python",
   "pygments_lexer": "ipython3",
   "version": "3.12.7"
  }
 },
 "nbformat": 4,
 "nbformat_minor": 5
}
